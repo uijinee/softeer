{
 "cells": [
  {
   "cell_type": "markdown",
   "id": "a9e867ba",
   "metadata": {},
   "source": [
    "# 데이터 생성"
   ]
  },
  {
   "cell_type": "code",
   "execution_count": 1,
   "id": "e72b86d3",
   "metadata": {},
   "outputs": [
    {
     "data": {
      "text/plain": [
       "518"
      ]
     },
     "execution_count": 1,
     "metadata": {},
     "output_type": "execute_result"
    }
   ],
   "source": [
    "import sqlite3\n",
    "import pandas as pd\n",
    "\n",
    "# CSV 파일 경로\n",
    "customer_csv = \"./database/customers.csv\"\n",
    "product_csv = \"./database/products.csv\"\n",
    "category_csv = \"./database/categories.csv\"\n",
    "employee_csv = \"./database/employees.csv\"\n",
    "shipper_csv = \"./database/shippers.csv\"\n",
    "supplier_csv = \"./database/suppliers.csv\"\n",
    "order_csv = \"./database/orders.csv\"\n",
    "orderdetail_csv = \"./database/order_details.csv\"\n",
    "\n",
    "# CSV 로드\n",
    "customers_df = pd.read_csv(customer_csv)\n",
    "products_df = pd.read_csv(product_csv)\n",
    "categories_df = pd.read_csv(category_csv)\n",
    "employees_df = pd.read_csv(employee_csv)\n",
    "shipper_df = pd.read_csv(shipper_csv)\n",
    "suppliers_df = pd.read_csv(supplier_csv)\n",
    "order_df = pd.read_csv(order_csv)\n",
    "orderdetails_df = pd.read_csv(orderdetail_csv)\n",
    "\n",
    "# SQLite 연결\n",
    "conn = sqlite3.connect(\":memory:\")\n",
    "cur = conn.cursor()\n",
    "\n",
    "# 테이블 생성\n",
    "\n",
    "# Customers\n",
    "cur.execute(\"\"\"\n",
    "CREATE TABLE Customers (\n",
    "    CustomerID INTEGER PRIMARY KEY,\n",
    "    CustomerName TEXT NOT NULL,\n",
    "    ContactName TEXT,\n",
    "    Address TEXT,\n",
    "    City TEXT,\n",
    "    PostalCode TEXT,\n",
    "    Country TEXT\n",
    ");\n",
    "\"\"\")\n",
    "\n",
    "# Products\n",
    "cur.execute(\"\"\"\n",
    "CREATE TABLE Products (\n",
    "    ProductID INTEGER PRIMARY KEY,\n",
    "    ProductName TEXT NOT NULL,\n",
    "    SupplierID INTEGER,\n",
    "    CategoryID INTEGER,\n",
    "    Unit TEXT,\n",
    "    Price REAL,\n",
    "    FOREIGN KEY (SupplierID) REFERENCES Suppliers(SupplierID),\n",
    "    FOREIGN KEY (CategoryID) REFERENCES Categories(CategoryID)\n",
    ");\n",
    "\"\"\")\n",
    "\n",
    "# Categories\n",
    "cur.execute(\"\"\"\n",
    "CREATE TABLE Categories (\n",
    "    CategoryID INTEGER PRIMARY KEY,\n",
    "    CategoryName TEXT NOT NULL,\n",
    "    Description TEXT\n",
    ");\n",
    "\"\"\")\n",
    "\n",
    "# Employees\n",
    "cur.execute(\"\"\"\n",
    "CREATE TABLE Employees (\n",
    "    EmployeeID INTEGER PRIMARY KEY,\n",
    "    LastName TEXT,\n",
    "    FirstName TEXT,\n",
    "    BirthDate TEXT,\n",
    "    Photo TEXT,\n",
    "    Notes TEXT\n",
    ");\n",
    "\"\"\")\n",
    "\n",
    "# Shippers\n",
    "cur.execute(\"\"\"\n",
    "CREATE TABLE Shippers (\n",
    "    ShipperID INTEGER PRIMARY KEY,\n",
    "    ShipperName TEXT NOT NULL,\n",
    "    Phone TEXT\n",
    ");\n",
    "\"\"\")\n",
    "\n",
    "# Suppliers\n",
    "cur.execute(\"\"\"\n",
    "CREATE TABLE Suppliers (\n",
    "    SupplierID INTEGER PRIMARY KEY,\n",
    "    SupplierName TEXT NOT NULL,\n",
    "    ContactName TEXT,\n",
    "    Address TEXT,\n",
    "    City TEXT,\n",
    "    PostalCode TEXT,\n",
    "    Country TEXT,\n",
    "    Phone TEXT\n",
    ");\n",
    "\"\"\")\n",
    "\n",
    "# Orders\n",
    "cur.execute(\"\"\"\n",
    "CREATE TABLE Orders (\n",
    "    OrderID INTEGER PRIMARY KEY,\n",
    "    CustomerID INTEGER NOT NULL,\n",
    "    EmployeeID INTEGER NOT NULL,\n",
    "    OrderDate TEXT NOT NULL,\n",
    "    ShipperID INTEGER NOT NULL,\n",
    "    FOREIGN KEY (CustomerID) REFERENCES Customers(CustomerID),\n",
    "    FOREIGN KEY (EmployeeID) REFERENCES Employees(EmployeeID),\n",
    "    FOREIGN KEY (ShipperID) REFERENCES Shippers(ShipperID)\n",
    ");\n",
    "\"\"\")\n",
    "\n",
    "# OrderDetails\n",
    "cur.execute(\"\"\"\n",
    "CREATE TABLE OrderDetails (\n",
    "    OrderDetailID INTEGER PRIMARY KEY,\n",
    "    OrderID INTEGER NOT NULL,\n",
    "    ProductID INTEGER NOT NULL,\n",
    "    Quantity INTEGER NOT NULL,\n",
    "    FOREIGN KEY (OrderID) REFERENCES Orders(OrderID),\n",
    "    FOREIGN KEY (ProductID) REFERENCES Products(ProductID)\n",
    ");\n",
    "\"\"\")\n",
    "\n",
    "# 데이터 삽입\n",
    "customers_df.to_sql(\"Customers\", conn, if_exists=\"append\", index=False)\n",
    "products_df.to_sql(\"Products\", conn, if_exists=\"append\", index=False)\n",
    "categories_df.to_sql(\"Categories\", conn, if_exists=\"append\", index=False)\n",
    "employees_df.to_sql(\"Employees\", conn, if_exists=\"append\", index=False)\n",
    "suppliers_df.to_sql(\"Suppliers\", conn, if_exists=\"append\", index=False)\n",
    "shipper_df.to_sql(\"Shippers\", conn, if_exists=\"append\", index=False)\n",
    "order_df.to_sql(\"Orders\", conn, if_exists=\"append\", index=False)\n",
    "orderdetails_df.to_sql(\"OrderDetails\", conn, if_exists=\"append\", index=False)"
   ]
  },
  {
   "cell_type": "code",
   "execution_count": 2,
   "id": "97890ac2",
   "metadata": {},
   "outputs": [],
   "source": [
    "def execute(query, print_limit=5):\n",
    "    print(\"-\" * 20)\n",
    "    print(f\"QUERY: {query}\")\n",
    "    print(f\"RESULT:\")\n",
    "    for i, row in enumerate(cur.execute(query)):\n",
    "        if i < print_limit:\n",
    "            print(row)\n",
    "        else:\n",
    "            break\n",
    "    print()\n",
    "        \n",
    "def commit():\n",
    "    conn.commit()"
   ]
  },
  {
   "cell_type": "markdown",
   "id": "e21e58b2",
   "metadata": {},
   "source": [
    "## 1. SELECT, FROM, WHERE"
   ]
  },
  {
   "cell_type": "code",
   "execution_count": 3,
   "id": "148304cb",
   "metadata": {},
   "outputs": [
    {
     "name": "stdout",
     "output_type": "stream",
     "text": [
      "--------------------\n",
      "QUERY: \n",
      "SELECT * FROM Customers;\n",
      "\n",
      "RESULT:\n",
      "(1, 'Alfreds Futterkiste ', 'Maria Anders ', 'Obere Str. 57 ', 'Berlin ', '12209 ', 'Germany')\n",
      "(2, 'Ana Trujillo Emparedados y helados ', 'Ana Trujillo ', 'Avda. de la Constitución 2222 ', 'México D.F. ', '05021 ', 'Mexico')\n",
      "(3, 'Antonio Moreno Taquería ', 'Antonio Moreno ', 'Mataderos 2312 ', 'México D.F. ', '05023 ', 'Mexico')\n",
      "(4, 'Around the Horn ', 'Thomas Hardy ', '120 Hanover Sq. ', 'London ', 'WA1 1DP ', 'UK')\n",
      "(5, 'Berglunds snabbköp ', 'Christina Berglund ', 'Berguvsvägen 8 ', 'Luleå ', 'S-958 22 ', 'Sweden')\n",
      "\n"
     ]
    }
   ],
   "source": [
    "query =\"\"\"\n",
    "SELECT * FROM Customers;\n",
    "\"\"\"\n",
    "execute(query)"
   ]
  },
  {
   "cell_type": "code",
   "execution_count": 4,
   "id": "78ea1f04",
   "metadata": {},
   "outputs": [
    {
     "name": "stdout",
     "output_type": "stream",
     "text": [
      "--------------------\n",
      "QUERY: \n",
      "SELECT CustomerName, City FROM Customers;\n",
      "\n",
      "RESULT:\n",
      "('Alfreds Futterkiste ', 'Berlin ')\n",
      "('Ana Trujillo Emparedados y helados ', 'México D.F. ')\n",
      "('Antonio Moreno Taquería ', 'México D.F. ')\n",
      "('Around the Horn ', 'London ')\n",
      "('Berglunds snabbköp ', 'Luleå ')\n",
      "\n"
     ]
    }
   ],
   "source": [
    "query =\"\"\"\n",
    "SELECT CustomerName, City FROM Customers;\n",
    "\"\"\"\n",
    "execute(query)"
   ]
  },
  {
   "cell_type": "code",
   "execution_count": 5,
   "id": "9b9d95a8",
   "metadata": {},
   "outputs": [
    {
     "name": "stdout",
     "output_type": "stream",
     "text": [
      "--------------------\n",
      "QUERY: \n",
      "SELECT DISTINCT Country FROM Customers;\n",
      "\n",
      "RESULT:\n",
      "('Germany',)\n",
      "('Mexico',)\n",
      "('UK',)\n",
      "('Sweden',)\n",
      "('France',)\n",
      "\n"
     ]
    }
   ],
   "source": [
    "query =\"\"\"\n",
    "SELECT DISTINCT Country FROM Customers;\n",
    "\"\"\"\n",
    "execute(query)"
   ]
  },
  {
   "cell_type": "code",
   "execution_count": 6,
   "id": "7214b9ac",
   "metadata": {},
   "outputs": [
    {
     "name": "stdout",
     "output_type": "stream",
     "text": [
      "--------------------\n",
      "QUERY: \n",
      "SELECT COUNT(DISTINCT Country) FROM Customers;\n",
      "\n",
      "RESULT:\n",
      "(21,)\n",
      "\n"
     ]
    }
   ],
   "source": [
    "query =\"\"\"\n",
    "SELECT COUNT(DISTINCT Country) FROM Customers;\n",
    "\"\"\"\n",
    "execute(query)"
   ]
  },
  {
   "cell_type": "code",
   "execution_count": 7,
   "id": "93d11821",
   "metadata": {},
   "outputs": [
    {
     "name": "stdout",
     "output_type": "stream",
     "text": [
      "--------------------\n",
      "QUERY: \n",
      "SELECT Count(*) AS DistinctCountries\n",
      "FROM (SELECT DISTINCT Country FROM Customers);\n",
      "\n",
      "RESULT:\n",
      "(21,)\n",
      "\n"
     ]
    }
   ],
   "source": [
    "query =\"\"\"\n",
    "SELECT Count(*) AS DistinctCountries\n",
    "FROM (SELECT DISTINCT Country FROM Customers);\n",
    "\"\"\"\n",
    "execute(query)"
   ]
  },
  {
   "cell_type": "code",
   "execution_count": 8,
   "id": "8f535154",
   "metadata": {},
   "outputs": [
    {
     "name": "stdout",
     "output_type": "stream",
     "text": [
      "--------------------\n",
      "QUERY: \n",
      "SELECT * FROM Customers\n",
      "WHERE Country='Mexico';\n",
      "\n",
      "RESULT:\n",
      "(2, 'Ana Trujillo Emparedados y helados ', 'Ana Trujillo ', 'Avda. de la Constitución 2222 ', 'México D.F. ', '05021 ', 'Mexico')\n",
      "(3, 'Antonio Moreno Taquería ', 'Antonio Moreno ', 'Mataderos 2312 ', 'México D.F. ', '05023 ', 'Mexico')\n",
      "(13, 'Centro comercial Moctezuma ', 'Francisco Chang ', 'Sierras de Granada 9993 ', 'México D.F. ', '05022 ', 'Mexico')\n",
      "(58, 'Pericles Comidas clásicas ', 'Guillermo Fernández ', 'Calle Dr. Jorge Cash 321 ', 'México D.F. ', '05033 ', 'Mexico')\n",
      "(80, 'Tortuga Restaurante ', 'Miguel Angel Paolino ', 'Avda. Azteca 123 ', 'México D.F. ', '05033 ', 'Mexico')\n",
      "\n"
     ]
    }
   ],
   "source": [
    "query =\"\"\"\n",
    "SELECT * FROM Customers\n",
    "WHERE Country='Mexico';\n",
    "\"\"\"\n",
    "execute(query)"
   ]
  },
  {
   "cell_type": "code",
   "execution_count": 9,
   "id": "7221b0b0",
   "metadata": {},
   "outputs": [
    {
     "name": "stdout",
     "output_type": "stream",
     "text": [
      "--------------------\n",
      "QUERY: \n",
      "SELECT * FROM Customers\n",
      "WHERE CustomerID=1;\n",
      "\n",
      "RESULT:\n",
      "(1, 'Alfreds Futterkiste ', 'Maria Anders ', 'Obere Str. 57 ', 'Berlin ', '12209 ', 'Germany')\n",
      "\n"
     ]
    }
   ],
   "source": [
    "query =\"\"\"\n",
    "SELECT * FROM Customers\n",
    "WHERE CustomerID=1;\n",
    "\"\"\"\n",
    "execute(query)"
   ]
  },
  {
   "cell_type": "code",
   "execution_count": 10,
   "id": "9eb87221",
   "metadata": {},
   "outputs": [
    {
     "name": "stdout",
     "output_type": "stream",
     "text": [
      "--------------------\n",
      "QUERY: \n",
      "SELECT * FROM Customers\n",
      "WHERE CustomerID > 80;\n",
      "\n",
      "RESULT:\n",
      "(81, 'Tradição Hipermercados ', 'Anabela Domingues ', 'Av. Inês de Castro, 414 ', 'São Paulo ', '05634-030 ', 'Brazil')\n",
      "(82, \"Trail's Head Gourmet Provisioners \", 'Helvetius Nagy ', '722 DaVinci Blvd. ', 'Kirkland ', '98034 ', 'USA')\n",
      "(83, 'Vaffeljernet ', 'Palle Ibsen ', 'Smagsløget 45 ', 'Århus ', '8200 ', 'Denmark')\n",
      "(84, 'Victuailles en stock ', 'Mary Saveley ', '2, rue du Commerce ', 'Lyon ', '69004 ', 'France')\n",
      "(85, 'Vins et alcools Chevalier ', 'Paul Henriot ', \"59 rue de l'Abbaye \", 'Reims ', '51100 ', 'France')\n",
      "\n"
     ]
    }
   ],
   "source": [
    "query =\"\"\"\n",
    "SELECT * FROM Customers\n",
    "WHERE CustomerID > 80;\n",
    "\"\"\"\n",
    "execute(query)"
   ]
  },
  {
   "cell_type": "code",
   "execution_count": 11,
   "id": "62756e10",
   "metadata": {},
   "outputs": [
    {
     "name": "stdout",
     "output_type": "stream",
     "text": [
      "--------------------\n",
      "QUERY: \n",
      "SELECT * FROM Products\n",
      "ORDER BY Price;\n",
      "\n",
      "RESULT:\n",
      "(33, 'Geitost', 15, 4, '500 g', 2.5)\n",
      "(24, 'Guaraná Fantástica', 10, 1, '12 - 355 ml cans', 4.5)\n",
      "(13, 'Konbu', 6, 8, '2 kg box', 6.0)\n",
      "(52, 'Filo Mix', 24, 5, '16 - 2 kg boxes', 7.0)\n",
      "(54, 'Tourtière', 25, 6, '16 pies', 7.45)\n",
      "\n"
     ]
    }
   ],
   "source": [
    "query =\"\"\"\n",
    "SELECT * FROM Products\n",
    "ORDER BY Price;\n",
    "\"\"\"\n",
    "execute(query)"
   ]
  },
  {
   "cell_type": "code",
   "execution_count": 12,
   "id": "961dc7ed",
   "metadata": {},
   "outputs": [
    {
     "name": "stdout",
     "output_type": "stream",
     "text": [
      "--------------------\n",
      "QUERY: \n",
      "SELECT * FROM Products\n",
      "ORDER BY Price DESC;\n",
      "\n",
      "RESULT:\n",
      "(38, 'Côte de Blaye', 18, 1, '12 - 75 cl bottles', 263.5)\n",
      "(29, 'Thüringer Rostbratwurst', 12, 6, '50 bags x 30 sausgs.', 123.79)\n",
      "(9, 'Mishi Kobe Niku', 4, 6, '18 - 500 g pkgs.', 97.0)\n",
      "(20, \"Sir Rodney's Marmalade\", 8, 3, '30 gift boxes', 81.0)\n",
      "(18, 'Carnarvon Tigers', 7, 8, '16 kg pkg.', 62.5)\n",
      "\n"
     ]
    }
   ],
   "source": [
    "query =\"\"\"\n",
    "SELECT * FROM Products\n",
    "ORDER BY Price DESC;\n",
    "\"\"\"\n",
    "execute(query)"
   ]
  },
  {
   "cell_type": "code",
   "execution_count": 13,
   "id": "aada2837",
   "metadata": {},
   "outputs": [
    {
     "name": "stdout",
     "output_type": "stream",
     "text": [
      "--------------------\n",
      "QUERY: \n",
      "SELECT * FROM Products\n",
      "ORDER BY ProductName;\n",
      "\n",
      "RESULT:\n",
      "(17, 'Alice Mutton', 7, 6, '20 - 1 kg tins', 39.0)\n",
      "(3, 'Aniseed Syrup', 1, 2, '12 - 550 ml bottles', 10.0)\n",
      "(40, 'Boston Crab Meat', 19, 8, '24 - 4 oz tins', 18.4)\n",
      "(60, 'Camembert Pierrot', 28, 4, '15 - 300 g rounds', 34.0)\n",
      "(18, 'Carnarvon Tigers', 7, 8, '16 kg pkg.', 62.5)\n",
      "\n"
     ]
    }
   ],
   "source": [
    "query =\"\"\"\n",
    "SELECT * FROM Products\n",
    "ORDER BY ProductName;\n",
    "\"\"\"\n",
    "execute(query)"
   ]
  },
  {
   "cell_type": "code",
   "execution_count": 14,
   "id": "0ce1b168",
   "metadata": {},
   "outputs": [
    {
     "name": "stdout",
     "output_type": "stream",
     "text": [
      "--------------------\n",
      "QUERY: \n",
      "SELECT * FROM Products\n",
      "ORDER BY ProductName DESC;\n",
      "\n",
      "RESULT:\n",
      "(47, 'Zaanse koeken', 22, 3, '10 - 4 oz boxes', 9.5)\n",
      "(64, 'Wimmers gute Semmelknödel', 12, 5, '20 bags x 4 pieces', 33.25)\n",
      "(63, 'Vegie-spread', 7, 2, '15 - 625 g jars', 43.9)\n",
      "(50, 'Valkoinen suklaa', 23, 3, '12 - 100 g bars', 16.25)\n",
      "(7, \"Uncle Bob's Organic Dried Pears\", 3, 7, '12 - 1 lb pkgs.', 30.0)\n",
      "\n"
     ]
    }
   ],
   "source": [
    "query =\"\"\"\n",
    "SELECT * FROM Products\n",
    "ORDER BY ProductName DESC;\n",
    "\"\"\"\n",
    "execute(query)"
   ]
  },
  {
   "cell_type": "code",
   "execution_count": 15,
   "id": "8bc46772",
   "metadata": {},
   "outputs": [
    {
     "name": "stdout",
     "output_type": "stream",
     "text": [
      "--------------------\n",
      "QUERY: \n",
      "SELECT * FROM Customers\n",
      "ORDER BY Country, CustomerName;\n",
      "\n",
      "RESULT:\n",
      "(12, 'Cactus Comidas para llevar ', 'Patricio Simpson ', 'Cerrito 333 ', 'Buenos Aires ', '1010 ', 'Argentina')\n",
      "(54, 'Océano Atlántico Ltda. ', 'Yvonne Moncada ', 'Ing. Gustavo Moncada 8585 Piso 20-A ', 'Buenos Aires ', '1010 ', 'Argentina')\n",
      "(64, 'Rancho grande ', 'Sergio Gutiérrez ', 'Av. del Libertador 900 ', 'Buenos Aires ', '1010 ', 'Argentina')\n",
      "(20, 'Ernst Handel ', 'Roland Mendel ', 'Kirchgasse 6 ', 'Graz ', '8010 ', 'Austria')\n",
      "(59, 'Piccolo und mehr ', 'Georg Pipps ', 'Geislweg 14 ', 'Salzburg ', '5020 ', 'Austria')\n",
      "\n"
     ]
    }
   ],
   "source": [
    "query =\"\"\"\n",
    "SELECT * FROM Customers\n",
    "ORDER BY Country, CustomerName;\n",
    "\"\"\"\n",
    "execute(query)"
   ]
  },
  {
   "cell_type": "code",
   "execution_count": 16,
   "id": "2aa6d34a",
   "metadata": {},
   "outputs": [
    {
     "name": "stdout",
     "output_type": "stream",
     "text": [
      "--------------------\n",
      "QUERY: \n",
      "SELECT * FROM Customers\n",
      "ORDER BY Country ASC, CustomerName DESC;\n",
      "\n",
      "RESULT:\n",
      "(64, 'Rancho grande ', 'Sergio Gutiérrez ', 'Av. del Libertador 900 ', 'Buenos Aires ', '1010 ', 'Argentina')\n",
      "(54, 'Océano Atlántico Ltda. ', 'Yvonne Moncada ', 'Ing. Gustavo Moncada 8585 Piso 20-A ', 'Buenos Aires ', '1010 ', 'Argentina')\n",
      "(12, 'Cactus Comidas para llevar ', 'Patricio Simpson ', 'Cerrito 333 ', 'Buenos Aires ', '1010 ', 'Argentina')\n",
      "(59, 'Piccolo und mehr ', 'Georg Pipps ', 'Geislweg 14 ', 'Salzburg ', '5020 ', 'Austria')\n",
      "(20, 'Ernst Handel ', 'Roland Mendel ', 'Kirchgasse 6 ', 'Graz ', '8010 ', 'Austria')\n",
      "\n"
     ]
    }
   ],
   "source": [
    "query =\"\"\"\n",
    "SELECT * FROM Customers\n",
    "ORDER BY Country ASC, CustomerName DESC;\n",
    "\"\"\"\n",
    "execute(query)"
   ]
  },
  {
   "cell_type": "markdown",
   "id": "9881fdf4",
   "metadata": {},
   "source": [
    "## 2. AND, OR, NOT"
   ]
  },
  {
   "cell_type": "code",
   "execution_count": 17,
   "id": "be29ca64",
   "metadata": {},
   "outputs": [
    {
     "name": "stdout",
     "output_type": "stream",
     "text": [
      "--------------------\n",
      "QUERY: \n",
      "SELECT *\n",
      "FROM Customers\n",
      "WHERE Country = 'Spain' AND CustomerName LIKE 'G%';\n",
      "\n",
      "RESULT:\n",
      "(29, 'Galería del gastrónomo ', 'Eduardo Saavedra ', 'Rambla de Cataluña, 23 ', 'Barcelona ', '08022 ', 'Spain')\n",
      "(30, 'Godos Cocina Típica ', 'José Pedro Freyre ', 'C/ Romero, 33 ', 'Sevilla ', '41101 ', 'Spain')\n",
      "\n"
     ]
    }
   ],
   "source": [
    "query =\"\"\"\n",
    "SELECT *\n",
    "FROM Customers\n",
    "WHERE Country = 'Spain' AND CustomerName LIKE 'G%';\n",
    "\"\"\"\n",
    "execute(query)"
   ]
  },
  {
   "cell_type": "code",
   "execution_count": 18,
   "id": "09537fa3",
   "metadata": {},
   "outputs": [
    {
     "name": "stdout",
     "output_type": "stream",
     "text": [
      "--------------------\n",
      "QUERY: \n",
      "SELECT * FROM Customers\n",
      "WHERE Country = 'Brazil'\n",
      "AND City = 'Rio de Janeiro'\n",
      "AND CustomerID > 50;\n",
      "\n",
      "RESULT:\n",
      "\n"
     ]
    }
   ],
   "source": [
    "query =\"\"\"\n",
    "SELECT * FROM Customers\n",
    "WHERE Country = 'Brazil'\n",
    "AND City = 'Rio de Janeiro'\n",
    "AND CustomerID > 50;\n",
    "\"\"\"\n",
    "execute(query)"
   ]
  },
  {
   "cell_type": "code",
   "execution_count": 19,
   "id": "7a29b6f5",
   "metadata": {},
   "outputs": [
    {
     "name": "stdout",
     "output_type": "stream",
     "text": [
      "--------------------\n",
      "QUERY: \n",
      "SELECT * FROM Customers\n",
      "WHERE Country = 'Spain' AND (CustomerName LIKE 'G%' OR CustomerName LIKE 'R%');\n",
      "\n",
      "RESULT:\n",
      "(29, 'Galería del gastrónomo ', 'Eduardo Saavedra ', 'Rambla de Cataluña, 23 ', 'Barcelona ', '08022 ', 'Spain')\n",
      "(30, 'Godos Cocina Típica ', 'José Pedro Freyre ', 'C/ Romero, 33 ', 'Sevilla ', '41101 ', 'Spain')\n",
      "(69, 'Romero y tomillo ', 'Alejandra Camino ', 'Gran Vía, 1 ', 'Madrid ', '28001 ', 'Spain')\n",
      "\n"
     ]
    }
   ],
   "source": [
    "query =\"\"\"\n",
    "SELECT * FROM Customers\n",
    "WHERE Country = 'Spain' AND (CustomerName LIKE 'G%' OR CustomerName LIKE 'R%');\n",
    "\"\"\"\n",
    "execute(query)"
   ]
  },
  {
   "cell_type": "code",
   "execution_count": 20,
   "id": "8c30072a",
   "metadata": {},
   "outputs": [
    {
     "name": "stdout",
     "output_type": "stream",
     "text": [
      "--------------------\n",
      "QUERY: \n",
      "SELECT *\n",
      "FROM Customers\n",
      "WHERE Country = 'Germany' OR Country = 'Spain';\n",
      "\n",
      "RESULT:\n",
      "(1, 'Alfreds Futterkiste ', 'Maria Anders ', 'Obere Str. 57 ', 'Berlin ', '12209 ', 'Germany')\n",
      "(6, 'Blauer See Delikatessen ', 'Hanna Moos ', 'Forsterstr. 57 ', 'Mannheim ', '68306 ', 'Germany')\n",
      "(8, 'Bólido Comidas preparadas ', 'Martín Sommer ', 'C/ Araquil, 67 ', 'Madrid ', '28023 ', 'Spain')\n",
      "(17, 'Drachenblut Delikatessend ', 'Sven Ottlieb ', 'Walserweg 21 ', 'Aachen ', '52066 ', 'Germany')\n",
      "(22, 'FISSA Fabrica Inter. Salchichas S.A. ', 'Diego Roel ', 'C/ Moralzarzal, 86 ', 'Madrid ', '28034 ', 'Spain')\n",
      "\n"
     ]
    }
   ],
   "source": [
    "query =\"\"\"\n",
    "SELECT *\n",
    "FROM Customers\n",
    "WHERE Country = 'Germany' OR Country = 'Spain';\n",
    "\"\"\"\n",
    "execute(query)"
   ]
  },
  {
   "cell_type": "code",
   "execution_count": 21,
   "id": "108220d1",
   "metadata": {},
   "outputs": [
    {
     "name": "stdout",
     "output_type": "stream",
     "text": [
      "--------------------\n",
      "QUERY: \n",
      "SELECT * FROM Customers\n",
      "WHERE City = 'Berlin' OR CustomerName LIKE 'G%' OR Country = 'Norway';\n",
      "\n",
      "RESULT:\n",
      "(29, 'Galería del gastrónomo ', 'Eduardo Saavedra ', 'Rambla de Cataluña, 23 ', 'Barcelona ', '08022 ', 'Spain')\n",
      "(30, 'Godos Cocina Típica ', 'José Pedro Freyre ', 'C/ Romero, 33 ', 'Sevilla ', '41101 ', 'Spain')\n",
      "(31, 'Gourmet Lanchonetes ', 'André Fonseca ', 'Av. Brasil, 442 ', 'Campinas ', '04876-786 ', 'Brazil')\n",
      "(32, 'Great Lakes Food Market ', 'Howard Snyder ', '2732 Baker Blvd. ', 'Eugene ', '97403 ', 'USA')\n",
      "(33, 'GROSELLA-Restaurante ', 'Manuel Pereira ', '5ª Ave. Los Palos Grandes ', 'Caracas ', '1081 ', 'Venezuela')\n",
      "\n"
     ]
    }
   ],
   "source": [
    "query =\"\"\"\n",
    "SELECT * FROM Customers\n",
    "WHERE City = 'Berlin' OR CustomerName LIKE 'G%' OR Country = 'Norway';\n",
    "\"\"\"\n",
    "execute(query)"
   ]
  },
  {
   "cell_type": "code",
   "execution_count": 22,
   "id": "dc43fd25",
   "metadata": {},
   "outputs": [
    {
     "name": "stdout",
     "output_type": "stream",
     "text": [
      "--------------------\n",
      "QUERY: \n",
      "SELECT * FROM Customers\n",
      "WHERE Country = 'Spain' AND (CustomerName LIKE 'G%' OR CustomerName LIKE 'R%');\n",
      "\n",
      "RESULT:\n",
      "(29, 'Galería del gastrónomo ', 'Eduardo Saavedra ', 'Rambla de Cataluña, 23 ', 'Barcelona ', '08022 ', 'Spain')\n",
      "(30, 'Godos Cocina Típica ', 'José Pedro Freyre ', 'C/ Romero, 33 ', 'Sevilla ', '41101 ', 'Spain')\n",
      "(69, 'Romero y tomillo ', 'Alejandra Camino ', 'Gran Vía, 1 ', 'Madrid ', '28001 ', 'Spain')\n",
      "\n"
     ]
    }
   ],
   "source": [
    "query =\"\"\"\n",
    "SELECT * FROM Customers\n",
    "WHERE Country = 'Spain' AND (CustomerName LIKE 'G%' OR CustomerName LIKE 'R%');\n",
    "\"\"\"\n",
    "execute(query)"
   ]
  },
  {
   "cell_type": "code",
   "execution_count": 23,
   "id": "266ecfbc",
   "metadata": {},
   "outputs": [
    {
     "name": "stdout",
     "output_type": "stream",
     "text": [
      "--------------------\n",
      "QUERY: \n",
      "SELECT * FROM Customers\n",
      "WHERE NOT Country = 'Spain';\n",
      "\n",
      "RESULT:\n",
      "(1, 'Alfreds Futterkiste ', 'Maria Anders ', 'Obere Str. 57 ', 'Berlin ', '12209 ', 'Germany')\n",
      "(2, 'Ana Trujillo Emparedados y helados ', 'Ana Trujillo ', 'Avda. de la Constitución 2222 ', 'México D.F. ', '05021 ', 'Mexico')\n",
      "(3, 'Antonio Moreno Taquería ', 'Antonio Moreno ', 'Mataderos 2312 ', 'México D.F. ', '05023 ', 'Mexico')\n",
      "(4, 'Around the Horn ', 'Thomas Hardy ', '120 Hanover Sq. ', 'London ', 'WA1 1DP ', 'UK')\n",
      "(5, 'Berglunds snabbköp ', 'Christina Berglund ', 'Berguvsvägen 8 ', 'Luleå ', 'S-958 22 ', 'Sweden')\n",
      "\n"
     ]
    }
   ],
   "source": [
    "query =\"\"\"\n",
    "SELECT * FROM Customers\n",
    "WHERE NOT Country = 'Spain';\n",
    "\"\"\"\n",
    "execute(query)"
   ]
  },
  {
   "cell_type": "code",
   "execution_count": 24,
   "id": "cf5bed45",
   "metadata": {},
   "outputs": [
    {
     "name": "stdout",
     "output_type": "stream",
     "text": [
      "--------------------\n",
      "QUERY: \n",
      "SELECT * FROM Customers\n",
      "WHERE CustomerName NOT LIKE 'A%';\n",
      "\n",
      "RESULT:\n",
      "(5, 'Berglunds snabbköp ', 'Christina Berglund ', 'Berguvsvägen 8 ', 'Luleå ', 'S-958 22 ', 'Sweden')\n",
      "(6, 'Blauer See Delikatessen ', 'Hanna Moos ', 'Forsterstr. 57 ', 'Mannheim ', '68306 ', 'Germany')\n",
      "(7, 'Blondel père et fils ', 'Frédérique Citeaux ', '24, place Kléber ', 'Strasbourg ', '67000 ', 'France')\n",
      "(8, 'Bólido Comidas preparadas ', 'Martín Sommer ', 'C/ Araquil, 67 ', 'Madrid ', '28023 ', 'Spain')\n",
      "(9, \"Bon app' \", 'Laurence Lebihans ', '12, rue des Bouchers ', 'Marseille ', '13008 ', 'France')\n",
      "\n"
     ]
    }
   ],
   "source": [
    "query =\"\"\"\n",
    "SELECT * FROM Customers\n",
    "WHERE CustomerName NOT LIKE 'A%';\n",
    "\"\"\"\n",
    "execute(query)"
   ]
  },
  {
   "cell_type": "code",
   "execution_count": 25,
   "id": "f175171f",
   "metadata": {},
   "outputs": [
    {
     "name": "stdout",
     "output_type": "stream",
     "text": [
      "--------------------\n",
      "QUERY: \n",
      "SELECT * FROM Customers\n",
      "WHERE CustomerID NOT BETWEEN 10 AND 60;\n",
      "\n",
      "RESULT:\n",
      "(1, 'Alfreds Futterkiste ', 'Maria Anders ', 'Obere Str. 57 ', 'Berlin ', '12209 ', 'Germany')\n",
      "(2, 'Ana Trujillo Emparedados y helados ', 'Ana Trujillo ', 'Avda. de la Constitución 2222 ', 'México D.F. ', '05021 ', 'Mexico')\n",
      "(3, 'Antonio Moreno Taquería ', 'Antonio Moreno ', 'Mataderos 2312 ', 'México D.F. ', '05023 ', 'Mexico')\n",
      "(4, 'Around the Horn ', 'Thomas Hardy ', '120 Hanover Sq. ', 'London ', 'WA1 1DP ', 'UK')\n",
      "(5, 'Berglunds snabbköp ', 'Christina Berglund ', 'Berguvsvägen 8 ', 'Luleå ', 'S-958 22 ', 'Sweden')\n",
      "\n"
     ]
    }
   ],
   "source": [
    "query =\"\"\"\n",
    "SELECT * FROM Customers\n",
    "WHERE CustomerID NOT BETWEEN 10 AND 60;\n",
    "\"\"\"\n",
    "execute(query)"
   ]
  },
  {
   "cell_type": "code",
   "execution_count": 26,
   "id": "4e9005e8",
   "metadata": {},
   "outputs": [
    {
     "name": "stdout",
     "output_type": "stream",
     "text": [
      "--------------------\n",
      "QUERY: \n",
      "SELECT * FROM Customers\n",
      "WHERE City NOT IN ('Paris', 'London');\n",
      "\n",
      "RESULT:\n",
      "(1, 'Alfreds Futterkiste ', 'Maria Anders ', 'Obere Str. 57 ', 'Berlin ', '12209 ', 'Germany')\n",
      "(2, 'Ana Trujillo Emparedados y helados ', 'Ana Trujillo ', 'Avda. de la Constitución 2222 ', 'México D.F. ', '05021 ', 'Mexico')\n",
      "(3, 'Antonio Moreno Taquería ', 'Antonio Moreno ', 'Mataderos 2312 ', 'México D.F. ', '05023 ', 'Mexico')\n",
      "(4, 'Around the Horn ', 'Thomas Hardy ', '120 Hanover Sq. ', 'London ', 'WA1 1DP ', 'UK')\n",
      "(5, 'Berglunds snabbköp ', 'Christina Berglund ', 'Berguvsvägen 8 ', 'Luleå ', 'S-958 22 ', 'Sweden')\n",
      "\n"
     ]
    }
   ],
   "source": [
    "query =\"\"\"\n",
    "SELECT * FROM Customers\n",
    "WHERE City NOT IN ('Paris', 'London');\n",
    "\"\"\"\n",
    "execute(query)"
   ]
  },
  {
   "cell_type": "code",
   "execution_count": 27,
   "id": "6b705ec4",
   "metadata": {},
   "outputs": [
    {
     "name": "stdout",
     "output_type": "stream",
     "text": [
      "--------------------\n",
      "QUERY: \n",
      "SELECT * FROM Customers\n",
      "WHERE NOT CustomerID > 50;\n",
      "\n",
      "RESULT:\n",
      "(1, 'Alfreds Futterkiste ', 'Maria Anders ', 'Obere Str. 57 ', 'Berlin ', '12209 ', 'Germany')\n",
      "(2, 'Ana Trujillo Emparedados y helados ', 'Ana Trujillo ', 'Avda. de la Constitución 2222 ', 'México D.F. ', '05021 ', 'Mexico')\n",
      "(3, 'Antonio Moreno Taquería ', 'Antonio Moreno ', 'Mataderos 2312 ', 'México D.F. ', '05023 ', 'Mexico')\n",
      "(4, 'Around the Horn ', 'Thomas Hardy ', '120 Hanover Sq. ', 'London ', 'WA1 1DP ', 'UK')\n",
      "(5, 'Berglunds snabbköp ', 'Christina Berglund ', 'Berguvsvägen 8 ', 'Luleå ', 'S-958 22 ', 'Sweden')\n",
      "\n"
     ]
    }
   ],
   "source": [
    "query =\"\"\"\n",
    "SELECT * FROM Customers\n",
    "WHERE NOT CustomerID > 50;\n",
    "\"\"\"\n",
    "execute(query)"
   ]
  },
  {
   "cell_type": "code",
   "execution_count": 28,
   "id": "6aec9fd0",
   "metadata": {},
   "outputs": [
    {
     "name": "stdout",
     "output_type": "stream",
     "text": [
      "--------------------\n",
      "QUERY: \n",
      "SELECT * FROM Customers\n",
      "WHERE NOT CustomerId < 50;\n",
      "\n",
      "RESULT:\n",
      "(50, 'Maison Dewey ', 'Catherine Dewey ', 'Rue Joseph-Bens 532 ', 'Bruxelles ', 'B-1180 ', 'Belgium')\n",
      "(51, 'Mère Paillarde ', 'Jean Fresnière ', '43 rue St. Laurent ', 'Montréal ', 'H1J 1C3 ', 'Canada')\n",
      "(52, 'Morgenstern Gesundkost ', 'Alexander Feuer ', 'Heerstr. 22 ', 'Leipzig ', '04179 ', 'Germany')\n",
      "(53, 'North/South ', 'Simon Crowther ', 'South House 300 Queensbridge ', 'London ', 'SW7 1RZ ', 'UK')\n",
      "(54, 'Océano Atlántico Ltda. ', 'Yvonne Moncada ', 'Ing. Gustavo Moncada 8585 Piso 20-A ', 'Buenos Aires ', '1010 ', 'Argentina')\n",
      "\n"
     ]
    }
   ],
   "source": [
    "query =\"\"\"\n",
    "SELECT * FROM Customers\n",
    "WHERE NOT CustomerId < 50;\n",
    "\"\"\"\n",
    "execute(query)"
   ]
  },
  {
   "cell_type": "markdown",
   "id": "5cd27ec7",
   "metadata": {},
   "source": [
    "## 3. INSERT"
   ]
  },
  {
   "cell_type": "code",
   "execution_count": 29,
   "id": "e0f09e3a",
   "metadata": {},
   "outputs": [
    {
     "name": "stdout",
     "output_type": "stream",
     "text": [
      "--------------------\n",
      "QUERY: \n",
      "INSERT INTO Customers (CustomerName, ContactName, Address, City, PostalCode, Country)\n",
      "VALUES ('Cardinal', 'Tom B. Erichsen', 'Skagen 21', 'Stavanger', '4006', 'Norway');\n",
      "\n",
      "RESULT:\n",
      "\n",
      "--------------------\n",
      "QUERY: \n",
      "SELECT *\n",
      "FROM Customers\n",
      "WHERE CustomerName == 'Cardinal';\n",
      "\n",
      "RESULT:\n",
      "(92, 'Cardinal', 'Tom B. Erichsen', 'Skagen 21', 'Stavanger', '4006', 'Norway')\n",
      "\n"
     ]
    }
   ],
   "source": [
    "query =\"\"\"\n",
    "INSERT INTO Customers (CustomerName, ContactName, Address, City, PostalCode, Country)\n",
    "VALUES ('Cardinal', 'Tom B. Erichsen', 'Skagen 21', 'Stavanger', '4006', 'Norway');\n",
    "\"\"\"\n",
    "execute(query)\n",
    "\n",
    "query = \"\"\"\n",
    "SELECT *\n",
    "FROM Customers\n",
    "WHERE CustomerName == 'Cardinal';\n",
    "\"\"\"\n",
    "execute(query)"
   ]
  },
  {
   "cell_type": "code",
   "execution_count": 30,
   "id": "77b23b81",
   "metadata": {},
   "outputs": [
    {
     "name": "stdout",
     "output_type": "stream",
     "text": [
      "--------------------\n",
      "QUERY: \n",
      "INSERT INTO Customers (CustomerName, City, Country)\n",
      "VALUES ('Cardinal', 'Stavanger', 'Norway');\n",
      "\n",
      "RESULT:\n",
      "\n",
      "--------------------\n",
      "QUERY: \n",
      "SELECT *\n",
      "FROM Customers\n",
      "WHERE CustomerName == 'Cardinal';\n",
      "\n",
      "RESULT:\n",
      "(92, 'Cardinal', 'Tom B. Erichsen', 'Skagen 21', 'Stavanger', '4006', 'Norway')\n",
      "(93, 'Cardinal', None, None, 'Stavanger', None, 'Norway')\n",
      "\n"
     ]
    }
   ],
   "source": [
    "query =\"\"\"\n",
    "INSERT INTO Customers (CustomerName, City, Country)\n",
    "VALUES ('Cardinal', 'Stavanger', 'Norway');\n",
    "\"\"\"\n",
    "execute(query)\n",
    "\n",
    "query = \"\"\"\n",
    "SELECT *\n",
    "FROM Customers\n",
    "WHERE CustomerName == 'Cardinal';\n",
    "\"\"\"\n",
    "execute(query)"
   ]
  },
  {
   "cell_type": "code",
   "execution_count": 31,
   "id": "dad530fd",
   "metadata": {},
   "outputs": [
    {
     "name": "stdout",
     "output_type": "stream",
     "text": [
      "--------------------\n",
      "QUERY: \n",
      "INSERT INTO Customers (CustomerName, ContactName, Address, City, PostalCode, Country)\n",
      "VALUES\n",
      "('Cardinal', 'Tom B. Erichsen', 'Skagen 21', 'Stavanger', '4006', 'Norway'),\n",
      "('Greasy Burger', 'Per Olsen', 'Gateveien 15', 'Sandnes', '4306', 'Norway'),\n",
      "('Tasty Tee', 'Finn Egan', 'Streetroad 19B', 'Liverpool', 'L1 0AA', 'UK');\n",
      "\n",
      "RESULT:\n",
      "\n",
      "--------------------\n",
      "QUERY: \n",
      "SELECT *\n",
      "FROM Customers\n",
      "WHERE CustomerName IN ('Cardinal', 'Greasy Burger', 'Tasty Tee');\n",
      "\n",
      "RESULT:\n",
      "(92, 'Cardinal', 'Tom B. Erichsen', 'Skagen 21', 'Stavanger', '4006', 'Norway')\n",
      "(93, 'Cardinal', None, None, 'Stavanger', None, 'Norway')\n",
      "(94, 'Cardinal', 'Tom B. Erichsen', 'Skagen 21', 'Stavanger', '4006', 'Norway')\n",
      "(95, 'Greasy Burger', 'Per Olsen', 'Gateveien 15', 'Sandnes', '4306', 'Norway')\n",
      "(96, 'Tasty Tee', 'Finn Egan', 'Streetroad 19B', 'Liverpool', 'L1 0AA', 'UK')\n",
      "\n"
     ]
    }
   ],
   "source": [
    "query =\"\"\"\n",
    "INSERT INTO Customers (CustomerName, ContactName, Address, City, PostalCode, Country)\n",
    "VALUES\n",
    "('Cardinal', 'Tom B. Erichsen', 'Skagen 21', 'Stavanger', '4006', 'Norway'),\n",
    "('Greasy Burger', 'Per Olsen', 'Gateveien 15', 'Sandnes', '4306', 'Norway'),\n",
    "('Tasty Tee', 'Finn Egan', 'Streetroad 19B', 'Liverpool', 'L1 0AA', 'UK');\n",
    "\"\"\"\n",
    "execute(query)\n",
    "\n",
    "\n",
    "query = \"\"\"\n",
    "SELECT *\n",
    "FROM Customers\n",
    "WHERE CustomerName IN ('Cardinal', 'Greasy Burger', 'Tasty Tee');\n",
    "\"\"\"\n",
    "execute(query)"
   ]
  },
  {
   "cell_type": "markdown",
   "id": "9a3764c6",
   "metadata": {},
   "source": [
    "## 4. NULL"
   ]
  },
  {
   "cell_type": "code",
   "execution_count": 32,
   "id": "6bf44f51",
   "metadata": {},
   "outputs": [
    {
     "name": "stdout",
     "output_type": "stream",
     "text": [
      "--------------------\n",
      "QUERY: \n",
      "SELECT CustomerName, ContactName, Address\n",
      "FROM Customers\n",
      "WHERE Address IS NULL;\n",
      "\n",
      "RESULT:\n",
      "('Cardinal', None, None)\n",
      "\n"
     ]
    }
   ],
   "source": [
    "query =\"\"\"\n",
    "SELECT CustomerName, ContactName, Address\n",
    "FROM Customers\n",
    "WHERE Address IS NULL;\n",
    "\"\"\"\n",
    "execute(query)"
   ]
  },
  {
   "cell_type": "code",
   "execution_count": 33,
   "id": "d893e7ca",
   "metadata": {},
   "outputs": [
    {
     "name": "stdout",
     "output_type": "stream",
     "text": [
      "--------------------\n",
      "QUERY: \n",
      "SELECT CustomerName, ContactName, Address\n",
      "FROM Customers\n",
      "WHERE Address IS NOT NULL;\n",
      "\n",
      "RESULT:\n",
      "('Alfreds Futterkiste ', 'Maria Anders ', 'Obere Str. 57 ')\n",
      "('Ana Trujillo Emparedados y helados ', 'Ana Trujillo ', 'Avda. de la Constitución 2222 ')\n",
      "('Antonio Moreno Taquería ', 'Antonio Moreno ', 'Mataderos 2312 ')\n",
      "('Around the Horn ', 'Thomas Hardy ', '120 Hanover Sq. ')\n",
      "('Berglunds snabbköp ', 'Christina Berglund ', 'Berguvsvägen 8 ')\n",
      "\n"
     ]
    }
   ],
   "source": [
    "query =\"\"\"\n",
    "SELECT CustomerName, ContactName, Address\n",
    "FROM Customers\n",
    "WHERE Address IS NOT NULL;\n",
    "\"\"\"\n",
    "execute(query)"
   ]
  },
  {
   "cell_type": "code",
   "execution_count": 34,
   "id": "cf8b2eb9",
   "metadata": {},
   "outputs": [
    {
     "name": "stdout",
     "output_type": "stream",
     "text": [
      "--------------------\n",
      "QUERY:  \n",
      "select *\n",
      "from products\n",
      "RESULT:\n",
      "(1, 'Chais', 1, 1, '10 boxes x 20 bags', 18.0)\n",
      "(2, 'Chang', 1, 1, '24 - 12 oz bottles', 19.0)\n",
      "(3, 'Aniseed Syrup', 1, 2, '12 - 550 ml bottles', 10.0)\n",
      "(4, \"Chef Anton's Cajun Seasoning\", 2, 2, '48 - 6 oz jars', 22.0)\n",
      "(5, \"Chef Anton's Gumbo Mix\", 2, 2, '36 boxes', 21.35)\n",
      "\n"
     ]
    }
   ],
   "source": [
    "query =\"\"\" \n",
    "select *\n",
    "from products\"\"\"\n",
    "execute(query)"
   ]
  },
  {
   "cell_type": "markdown",
   "id": "010dd7be",
   "metadata": {},
   "source": [
    "## 5. Update, Delete, Drop"
   ]
  },
  {
   "cell_type": "code",
   "execution_count": 35,
   "id": "4abdac65",
   "metadata": {},
   "outputs": [
    {
     "name": "stdout",
     "output_type": "stream",
     "text": [
      "--------------------\n",
      "QUERY: \n",
      "UPDATE Customers\n",
      "SET ContactName = 'Alfred Schmidt', City= 'Frankfurt'\n",
      "WHERE CustomerID = 1;\n",
      "\n",
      "RESULT:\n",
      "\n",
      "--------------------\n",
      "QUERY: \n",
      "SELECT *\n",
      "FROM Customers\n",
      "WHERE CustomerID = 1;\n",
      "\n",
      "RESULT:\n",
      "(1, 'Alfreds Futterkiste ', 'Alfred Schmidt', 'Obere Str. 57 ', 'Frankfurt', '12209 ', 'Germany')\n",
      "\n"
     ]
    }
   ],
   "source": [
    "query =\"\"\"\n",
    "UPDATE Customers\n",
    "SET ContactName = 'Alfred Schmidt', City= 'Frankfurt'\n",
    "WHERE CustomerID = 1;\n",
    "\"\"\"\n",
    "execute(query)\n",
    "\n",
    "query =\"\"\"\n",
    "SELECT *\n",
    "FROM Customers\n",
    "WHERE CustomerID = 1;\n",
    "\"\"\"\n",
    "execute(query)"
   ]
  },
  {
   "cell_type": "code",
   "execution_count": 36,
   "id": "08793455",
   "metadata": {},
   "outputs": [
    {
     "name": "stdout",
     "output_type": "stream",
     "text": [
      "--------------------\n",
      "QUERY: \n",
      "UPDATE Customers\n",
      "SET ContactName='Juan'\n",
      "WHERE Country='Mexico';\n",
      "\n",
      "RESULT:\n",
      "\n",
      "--------------------\n",
      "QUERY: \n",
      "SELECT *\n",
      "FROM Customers\n",
      "WHERE Country='Mexico';\n",
      "\n",
      "RESULT:\n",
      "(2, 'Ana Trujillo Emparedados y helados ', 'Juan', 'Avda. de la Constitución 2222 ', 'México D.F. ', '05021 ', 'Mexico')\n",
      "(3, 'Antonio Moreno Taquería ', 'Juan', 'Mataderos 2312 ', 'México D.F. ', '05023 ', 'Mexico')\n",
      "(13, 'Centro comercial Moctezuma ', 'Juan', 'Sierras de Granada 9993 ', 'México D.F. ', '05022 ', 'Mexico')\n",
      "(58, 'Pericles Comidas clásicas ', 'Juan', 'Calle Dr. Jorge Cash 321 ', 'México D.F. ', '05033 ', 'Mexico')\n",
      "(80, 'Tortuga Restaurante ', 'Juan', 'Avda. Azteca 123 ', 'México D.F. ', '05033 ', 'Mexico')\n",
      "\n"
     ]
    }
   ],
   "source": [
    "query =\"\"\"\n",
    "UPDATE Customers\n",
    "SET ContactName='Juan'\n",
    "WHERE Country='Mexico';\n",
    "\"\"\"\n",
    "execute(query)\n",
    "\n",
    "query =\"\"\"\n",
    "SELECT *\n",
    "FROM Customers\n",
    "WHERE Country='Mexico';\n",
    "\"\"\"\n",
    "execute(query)"
   ]
  },
  {
   "cell_type": "code",
   "execution_count": 37,
   "id": "2bf8ee72",
   "metadata": {},
   "outputs": [
    {
     "name": "stdout",
     "output_type": "stream",
     "text": [
      "--------------------\n",
      "QUERY: \n",
      "UPDATE Customers\n",
      "SET ContactName='Juan';\n",
      "\n",
      "RESULT:\n",
      "\n",
      "--------------------\n",
      "QUERY: \n",
      "SELECT *\n",
      "FROM Customers\n",
      "\n",
      "RESULT:\n",
      "(1, 'Alfreds Futterkiste ', 'Juan', 'Obere Str. 57 ', 'Frankfurt', '12209 ', 'Germany')\n",
      "(2, 'Ana Trujillo Emparedados y helados ', 'Juan', 'Avda. de la Constitución 2222 ', 'México D.F. ', '05021 ', 'Mexico')\n",
      "(3, 'Antonio Moreno Taquería ', 'Juan', 'Mataderos 2312 ', 'México D.F. ', '05023 ', 'Mexico')\n",
      "(4, 'Around the Horn ', 'Juan', '120 Hanover Sq. ', 'London ', 'WA1 1DP ', 'UK')\n",
      "(5, 'Berglunds snabbköp ', 'Juan', 'Berguvsvägen 8 ', 'Luleå ', 'S-958 22 ', 'Sweden')\n",
      "\n"
     ]
    }
   ],
   "source": [
    "query =\"\"\"\n",
    "UPDATE Customers\n",
    "SET ContactName='Juan';\n",
    "\"\"\"\n",
    "execute(query)\n",
    "\n",
    "query =\"\"\"\n",
    "SELECT *\n",
    "FROM Customers\n",
    "\"\"\"\n",
    "execute(query)"
   ]
  },
  {
   "cell_type": "code",
   "execution_count": 38,
   "id": "7941d70e",
   "metadata": {},
   "outputs": [
    {
     "name": "stdout",
     "output_type": "stream",
     "text": [
      "--------------------\n",
      "QUERY: \n",
      "DELETE \n",
      "FROM Customers \n",
      "WHERE CustomerName='Alfreds Futterkiste';\n",
      "\n",
      "RESULT:\n",
      "\n",
      "--------------------\n",
      "QUERY: \n",
      "SELECT *\n",
      "FROM Customers\n",
      "WHERE CustomerName='Alfreds Futterkiste';\n",
      "\n",
      "RESULT:\n",
      "\n"
     ]
    }
   ],
   "source": [
    "query =\"\"\"\n",
    "DELETE \n",
    "FROM Customers \n",
    "WHERE CustomerName='Alfreds Futterkiste';\n",
    "\"\"\"\n",
    "execute(query)\n",
    "\n",
    "query =\"\"\"\n",
    "SELECT *\n",
    "FROM Customers\n",
    "WHERE CustomerName='Alfreds Futterkiste';\n",
    "\"\"\"\n",
    "execute(query)"
   ]
  },
  {
   "cell_type": "code",
   "execution_count": 39,
   "id": "7e623b70",
   "metadata": {},
   "outputs": [
    {
     "name": "stdout",
     "output_type": "stream",
     "text": [
      "--------------------\n",
      "QUERY: \n",
      "DELETE FROM Customers;\n",
      "\n",
      "RESULT:\n",
      "\n",
      "--------------------\n",
      "QUERY: \n",
      "SELECT *\n",
      "FROM Customers\n",
      "\n",
      "RESULT:\n",
      "\n"
     ]
    }
   ],
   "source": [
    "query =\"\"\"\n",
    "DELETE FROM Customers;\n",
    "\"\"\"\n",
    "execute(query)\n",
    "\n",
    "query =\"\"\"\n",
    "SELECT *\n",
    "FROM Customers\n",
    "\"\"\"\n",
    "execute(query)"
   ]
  },
  {
   "cell_type": "code",
   "execution_count": 40,
   "id": "79557637",
   "metadata": {},
   "outputs": [
    {
     "name": "stdout",
     "output_type": "stream",
     "text": [
      "--------------------\n",
      "QUERY: \n",
      "DROP TABLE Customers;\n",
      "\n",
      "RESULT:\n",
      "\n",
      "--------------------\n",
      "QUERY: \n",
      "SELECT \n",
      "    name\n",
      "FROM \n",
      "    sqlite_schema\n",
      "WHERE \n",
      "    type ='table' AND \n",
      "    name NOT LIKE 'sqlite_%';\n",
      "\n",
      "RESULT:\n",
      "('Products',)\n",
      "('Categories',)\n",
      "('Employees',)\n",
      "('Shippers',)\n",
      "('Suppliers',)\n",
      "\n"
     ]
    }
   ],
   "source": [
    "query =\"\"\"\n",
    "DROP TABLE Customers;\n",
    "\"\"\"\n",
    "execute(query)\n",
    "\n",
    "query =\"\"\"\n",
    "SELECT \n",
    "    name\n",
    "FROM \n",
    "    sqlite_schema\n",
    "WHERE \n",
    "    type ='table' AND \n",
    "    name NOT LIKE 'sqlite_%';\n",
    "\"\"\"\n",
    "execute(query)"
   ]
  },
  {
   "cell_type": "markdown",
   "id": "a06957d1",
   "metadata": {},
   "source": [
    "## 6. Limit in MySQL(\"Top\" in oracle)"
   ]
  },
  {
   "cell_type": "code",
   "execution_count": 35,
   "id": "9cb91b39",
   "metadata": {},
   "outputs": [
    {
     "name": "stdout",
     "output_type": "stream",
     "text": [
      "--------------------\n",
      "QUERY: \n",
      "SELECT * FROM Customers\n",
      "LIMIT 3;\n",
      "\n",
      "RESULT:\n",
      "(1, 'Alfreds Futterkiste ', 'Maria Anders ', 'Obere Str. 57 ', 'Berlin ', '12209 ', 'Germany')\n",
      "(2, 'Ana Trujillo Emparedados y helados ', 'Ana Trujillo ', 'Avda. de la Constitución 2222 ', 'México D.F. ', '05021 ', 'Mexico')\n",
      "(3, 'Antonio Moreno Taquería ', 'Antonio Moreno ', 'Mataderos 2312 ', 'México D.F. ', '05023 ', 'Mexico')\n",
      "\n"
     ]
    }
   ],
   "source": [
    "query =\"\"\"\n",
    "SELECT * FROM Customers\n",
    "LIMIT 3;\n",
    "\"\"\"\n",
    "execute(query)"
   ]
  },
  {
   "cell_type": "code",
   "execution_count": 36,
   "id": "d54de9b4",
   "metadata": {},
   "outputs": [
    {
     "name": "stdout",
     "output_type": "stream",
     "text": [
      "--------------------\n",
      "QUERY: \n",
      "SELECT * FROM Customers\n",
      "WHERE Country='Germany'\n",
      "LIMIT 3;\n",
      "\n",
      "RESULT:\n",
      "(1, 'Alfreds Futterkiste ', 'Maria Anders ', 'Obere Str. 57 ', 'Berlin ', '12209 ', 'Germany')\n",
      "(6, 'Blauer See Delikatessen ', 'Hanna Moos ', 'Forsterstr. 57 ', 'Mannheim ', '68306 ', 'Germany')\n",
      "(17, 'Drachenblut Delikatessend ', 'Sven Ottlieb ', 'Walserweg 21 ', 'Aachen ', '52066 ', 'Germany')\n",
      "\n"
     ]
    }
   ],
   "source": [
    "query =\"\"\"\n",
    "SELECT * FROM Customers\n",
    "WHERE Country='Germany'\n",
    "LIMIT 3;\n",
    "\"\"\"\n",
    "execute(query)"
   ]
  },
  {
   "cell_type": "code",
   "execution_count": 37,
   "id": "b2fb724f",
   "metadata": {},
   "outputs": [
    {
     "name": "stdout",
     "output_type": "stream",
     "text": [
      "--------------------\n",
      "QUERY: \n",
      "SELECT * FROM Customers\n",
      "ORDER BY CustomerName DESC\n",
      "LIMIT 3;\n",
      "\n",
      "RESULT:\n",
      "(91, 'Wolski ', 'Zbyszek ', 'ul. Filtrowa 68 ', 'Walla ', '01-012 ', 'Poland')\n",
      "(90, 'Wilman Kala ', 'Matti Karttunen ', 'Keskuskatu 45 ', 'Helsinki ', '21240 ', 'Finland')\n",
      "(89, 'White Clover Markets ', 'Karl Jablonski ', '305 - 14th Ave. S. Suite 3B ', 'Seattle ', '98128 ', 'USA')\n",
      "\n"
     ]
    }
   ],
   "source": [
    "query =\"\"\"\n",
    "SELECT * FROM Customers\n",
    "ORDER BY CustomerName DESC\n",
    "LIMIT 3;\n",
    "\"\"\"\n",
    "execute(query)"
   ]
  },
  {
   "cell_type": "markdown",
   "id": "9cd06dbe",
   "metadata": {},
   "source": [
    "## 7. Aggregation"
   ]
  },
  {
   "cell_type": "code",
   "execution_count": 38,
   "id": "c6e457b6",
   "metadata": {},
   "outputs": [
    {
     "name": "stdout",
     "output_type": "stream",
     "text": [
      "--------------------\n",
      "QUERY: \n",
      "SELECT MIN(Price)\n",
      "FROM Products;\n",
      "\n",
      "RESULT:\n",
      "(2.5,)\n",
      "\n"
     ]
    }
   ],
   "source": [
    "query =\"\"\"\n",
    "SELECT MIN(Price)\n",
    "FROM Products;\n",
    "\"\"\"\n",
    "execute(query)"
   ]
  },
  {
   "cell_type": "code",
   "execution_count": 39,
   "id": "f6493459",
   "metadata": {},
   "outputs": [
    {
     "name": "stdout",
     "output_type": "stream",
     "text": [
      "--------------------\n",
      "QUERY: \n",
      "SELECT MIN(Price) AS SmallestPrice\n",
      "FROM Products;\n",
      "\n",
      "RESULT:\n",
      "(2.5,)\n",
      "\n"
     ]
    }
   ],
   "source": [
    "query = \"\"\"\n",
    "SELECT MIN(Price) AS SmallestPrice\n",
    "FROM Products;\n",
    "\"\"\"\n",
    "execute(query)"
   ]
  },
  {
   "cell_type": "code",
   "execution_count": 40,
   "id": "03e32bfe",
   "metadata": {},
   "outputs": [
    {
     "name": "stdout",
     "output_type": "stream",
     "text": [
      "--------------------\n",
      "QUERY: \n",
      "SELECT MIN(Price) AS SmallestPrice, CategoryID\n",
      "FROM Products\n",
      "GROUP BY CategoryID;\n",
      "\n",
      "RESULT:\n",
      "(4.5, 1)\n",
      "(10.0, 2)\n",
      "(9.2, 3)\n",
      "(2.5, 4)\n",
      "(7.0, 5)\n",
      "\n"
     ]
    }
   ],
   "source": [
    "query = \"\"\"\n",
    "SELECT MIN(Price) AS SmallestPrice, CategoryID\n",
    "FROM Products\n",
    "GROUP BY CategoryID;\n",
    "\"\"\"\n",
    "execute(query)"
   ]
  },
  {
   "cell_type": "code",
   "execution_count": 41,
   "id": "eb3057bd",
   "metadata": {},
   "outputs": [
    {
     "name": "stdout",
     "output_type": "stream",
     "text": [
      "--------------------\n",
      "QUERY: \n",
      "SELECT COUNT(*)\n",
      "FROM Products;\n",
      "\n",
      "RESULT:\n",
      "(77,)\n",
      "\n"
     ]
    }
   ],
   "source": [
    "query = \"\"\"\n",
    "SELECT COUNT(*)\n",
    "FROM Products;\n",
    "\"\"\"\n",
    "execute(query)"
   ]
  },
  {
   "cell_type": "code",
   "execution_count": 42,
   "id": "0354c040",
   "metadata": {},
   "outputs": [
    {
     "name": "stdout",
     "output_type": "stream",
     "text": [
      "--------------------\n",
      "QUERY: \n",
      "SELECT COUNT(ProductName)\n",
      "FROM Products;\n",
      "\n",
      "RESULT:\n",
      "(77,)\n",
      "\n"
     ]
    }
   ],
   "source": [
    "query = \"\"\"\n",
    "SELECT COUNT(ProductName)\n",
    "FROM Products;\n",
    "\"\"\"\n",
    "execute(query)"
   ]
  },
  {
   "cell_type": "code",
   "execution_count": 43,
   "id": "b7445d75",
   "metadata": {},
   "outputs": [
    {
     "name": "stdout",
     "output_type": "stream",
     "text": [
      "--------------------\n",
      "QUERY: \n",
      "SELECT COUNT(ProductID)\n",
      "FROM Products\n",
      "WHERE Price > 20;\n",
      "\n",
      "RESULT:\n",
      "(37,)\n",
      "\n"
     ]
    }
   ],
   "source": [
    "query = \"\"\"\n",
    "SELECT COUNT(ProductID)\n",
    "FROM Products\n",
    "WHERE Price > 20;\n",
    "\"\"\"\n",
    "execute(query)"
   ]
  },
  {
   "cell_type": "code",
   "execution_count": 44,
   "id": "54287899",
   "metadata": {},
   "outputs": [
    {
     "name": "stdout",
     "output_type": "stream",
     "text": [
      "--------------------\n",
      "QUERY: \n",
      "SELECT COUNT(DISTINCT Price)\n",
      "FROM Products;\n",
      "\n",
      "RESULT:\n",
      "(62,)\n",
      "\n"
     ]
    }
   ],
   "source": [
    "query = \"\"\"\n",
    "SELECT COUNT(DISTINCT Price)\n",
    "FROM Products;\n",
    "\"\"\"\n",
    "execute(query)"
   ]
  },
  {
   "cell_type": "code",
   "execution_count": 45,
   "id": "26ea381a",
   "metadata": {},
   "outputs": [
    {
     "name": "stdout",
     "output_type": "stream",
     "text": [
      "--------------------\n",
      "QUERY: \n",
      "SELECT COUNT(*) AS [Number of records]\n",
      "FROM Products;\n",
      "\n",
      "RESULT:\n",
      "(77,)\n",
      "\n"
     ]
    }
   ],
   "source": [
    "query = \"\"\"\n",
    "SELECT COUNT(*) AS [Number of records]\n",
    "FROM Products;\n",
    "\"\"\"\n",
    "execute(query)"
   ]
  },
  {
   "cell_type": "code",
   "execution_count": 46,
   "id": "86d8db25",
   "metadata": {},
   "outputs": [
    {
     "name": "stdout",
     "output_type": "stream",
     "text": [
      "--------------------\n",
      "QUERY: \n",
      "SELECT COUNT(*) AS [Number of records], CategoryID\n",
      "FROM Products\n",
      "GROUP BY CategoryID;\n",
      "\n",
      "RESULT:\n",
      "(12, 1)\n",
      "(12, 2)\n",
      "(13, 3)\n",
      "(10, 4)\n",
      "(7, 5)\n",
      "\n"
     ]
    }
   ],
   "source": [
    "query = \"\"\"\n",
    "SELECT COUNT(*) AS [Number of records], CategoryID\n",
    "FROM Products\n",
    "GROUP BY CategoryID;\n",
    "\"\"\"\n",
    "execute(query)"
   ]
  },
  {
   "cell_type": "code",
   "execution_count": 47,
   "id": "25da27e0",
   "metadata": {},
   "outputs": [
    {
     "name": "stdout",
     "output_type": "stream",
     "text": [
      "--------------------\n",
      "QUERY: \n",
      "SELECT SUM(Quantity)\n",
      "FROM OrderDetails;\n",
      "\n",
      "RESULT:\n",
      "(12743,)\n",
      "\n"
     ]
    }
   ],
   "source": [
    "query = \"\"\"\n",
    "SELECT SUM(Quantity)\n",
    "FROM OrderDetails;\n",
    "\"\"\"\n",
    "execute(query)"
   ]
  },
  {
   "cell_type": "code",
   "execution_count": 48,
   "id": "2051f808",
   "metadata": {},
   "outputs": [
    {
     "name": "stdout",
     "output_type": "stream",
     "text": [
      "--------------------\n",
      "QUERY: \n",
      "SELECT SUM(Quantity)\n",
      "FROM OrderDetails\n",
      "WHERE ProductId = 11;\n",
      "\n",
      "RESULT:\n",
      "(182,)\n",
      "\n"
     ]
    }
   ],
   "source": [
    "query = \"\"\"\n",
    "SELECT SUM(Quantity)\n",
    "FROM OrderDetails\n",
    "WHERE ProductId = 11;\n",
    "\"\"\"\n",
    "execute(query)"
   ]
  },
  {
   "cell_type": "code",
   "execution_count": 49,
   "id": "ccd6a4ea",
   "metadata": {},
   "outputs": [
    {
     "name": "stdout",
     "output_type": "stream",
     "text": [
      "--------------------\n",
      "QUERY: \n",
      "SELECT SUM(Quantity) AS total\n",
      "FROM OrderDetails;\n",
      "\n",
      "RESULT:\n",
      "(12743,)\n",
      "\n"
     ]
    }
   ],
   "source": [
    "query = \"\"\"\n",
    "SELECT SUM(Quantity) AS total\n",
    "FROM OrderDetails;\n",
    "\"\"\"\n",
    "execute(query)"
   ]
  },
  {
   "cell_type": "code",
   "execution_count": 50,
   "id": "530438a9",
   "metadata": {},
   "outputs": [
    {
     "name": "stdout",
     "output_type": "stream",
     "text": [
      "--------------------\n",
      "QUERY: \n",
      "SELECT OrderID, SUM(Quantity) AS [Total Quantity]\n",
      "FROM OrderDetails\n",
      "GROUP BY OrderID;\n",
      "\n",
      "RESULT:\n",
      "(10248, 27)\n",
      "(10249, 49)\n",
      "(10250, 60)\n",
      "(10251, 41)\n",
      "(10252, 105)\n",
      "\n"
     ]
    }
   ],
   "source": [
    "query = \"\"\"\n",
    "SELECT OrderID, SUM(Quantity) AS [Total Quantity]\n",
    "FROM OrderDetails\n",
    "GROUP BY OrderID;\n",
    "\"\"\"\n",
    "execute(query)"
   ]
  },
  {
   "cell_type": "code",
   "execution_count": 51,
   "id": "8b4cf7c1",
   "metadata": {},
   "outputs": [
    {
     "name": "stdout",
     "output_type": "stream",
     "text": [
      "--------------------\n",
      "QUERY: \n",
      "SELECT SUM(Quantity * 10)\n",
      "FROM OrderDetails;\n",
      "\n",
      "RESULT:\n",
      "(127430,)\n",
      "\n"
     ]
    }
   ],
   "source": [
    "query = \"\"\"\n",
    "SELECT SUM(Quantity * 10)\n",
    "FROM OrderDetails;\n",
    "\"\"\"\n",
    "execute(query)"
   ]
  },
  {
   "cell_type": "code",
   "execution_count": 52,
   "id": "77095942",
   "metadata": {},
   "outputs": [
    {
     "name": "stdout",
     "output_type": "stream",
     "text": [
      "--------------------\n",
      "QUERY: \n",
      "SELECT SUM(Price * Quantity)\n",
      "FROM OrderDetails\n",
      "LEFT JOIN Products ON OrderDetails.ProductID = Products.ProductID;\n",
      "\n",
      "RESULT:\n",
      "(386424.23,)\n",
      "\n"
     ]
    }
   ],
   "source": [
    "query = \"\"\"\n",
    "SELECT SUM(Price * Quantity)\n",
    "FROM OrderDetails\n",
    "LEFT JOIN Products ON OrderDetails.ProductID = Products.ProductID;\n",
    "\"\"\"\n",
    "execute(query)"
   ]
  },
  {
   "cell_type": "code",
   "execution_count": 53,
   "id": "d006a9be",
   "metadata": {},
   "outputs": [
    {
     "name": "stdout",
     "output_type": "stream",
     "text": [
      "--------------------\n",
      "QUERY: \n",
      "SELECT AVG(Price)\n",
      "FROM Products;\n",
      "\n",
      "RESULT:\n",
      "(28.866363636363637,)\n",
      "\n"
     ]
    }
   ],
   "source": [
    "query = \"\"\"\n",
    "SELECT AVG(Price)\n",
    "FROM Products;\n",
    "\"\"\"\n",
    "execute(query)"
   ]
  },
  {
   "cell_type": "code",
   "execution_count": 54,
   "id": "c8c6e57a",
   "metadata": {},
   "outputs": [
    {
     "name": "stdout",
     "output_type": "stream",
     "text": [
      "--------------------\n",
      "QUERY: \n",
      "SELECT AVG(Price)\n",
      "FROM Products\n",
      "WHERE CategoryID = 1;\n",
      "\n",
      "RESULT:\n",
      "(37.979166666666664,)\n",
      "\n"
     ]
    }
   ],
   "source": [
    "query = \"\"\"\n",
    "SELECT AVG(Price)\n",
    "FROM Products\n",
    "WHERE CategoryID = 1;\n",
    "\"\"\"\n",
    "execute(query)"
   ]
  },
  {
   "cell_type": "code",
   "execution_count": 55,
   "id": "c66082fd",
   "metadata": {},
   "outputs": [
    {
     "name": "stdout",
     "output_type": "stream",
     "text": [
      "--------------------\n",
      "QUERY: \n",
      "SELECT AVG(Price) AS [average price]\n",
      "FROM Products;\n",
      "\n",
      "RESULT:\n",
      "(28.866363636363637,)\n",
      "\n"
     ]
    }
   ],
   "source": [
    "query = \"\"\"\n",
    "SELECT AVG(Price) AS [average price]\n",
    "FROM Products;\n",
    "\"\"\"\n",
    "execute(query)"
   ]
  },
  {
   "cell_type": "code",
   "execution_count": 56,
   "id": "92599611",
   "metadata": {},
   "outputs": [
    {
     "name": "stdout",
     "output_type": "stream",
     "text": [
      "--------------------\n",
      "QUERY: \n",
      "SELECT * FROM Products\n",
      "WHERE price > (SELECT AVG(price) FROM Products);\n",
      "\n",
      "RESULT:\n",
      "(7, \"Uncle Bob's Organic Dried Pears\", 3, 7, '12 - 1 lb pkgs.', 30.0)\n",
      "(8, 'Northwoods Cranberry Sauce', 3, 2, '12 - 12 oz jars', 40.0)\n",
      "(9, 'Mishi Kobe Niku', 4, 6, '18 - 500 g pkgs.', 97.0)\n",
      "(10, 'Ikura', 4, 8, '12 - 200 ml jars', 31.0)\n",
      "(12, 'Queso Manchego La Pastora', 5, 4, '10 - 500 g pkgs.', 38.0)\n",
      "\n"
     ]
    }
   ],
   "source": [
    "query = \"\"\"\n",
    "SELECT * FROM Products\n",
    "WHERE price > (SELECT AVG(price) FROM Products);\n",
    "\"\"\"\n",
    "execute(query)"
   ]
  },
  {
   "cell_type": "code",
   "execution_count": 57,
   "id": "708b0374",
   "metadata": {},
   "outputs": [
    {
     "name": "stdout",
     "output_type": "stream",
     "text": [
      "--------------------\n",
      "QUERY: \n",
      "SELECT AVG(Price) AS AveragePrice, CategoryID\n",
      "FROM Products\n",
      "GROUP BY CategoryID;\n",
      "\n",
      "RESULT:\n",
      "(37.979166666666664, 1)\n",
      "(23.0625, 2)\n",
      "(25.16, 3)\n",
      "(28.73, 4)\n",
      "(20.25, 5)\n",
      "\n"
     ]
    }
   ],
   "source": [
    "query = \"\"\"\n",
    "SELECT AVG(Price) AS AveragePrice, CategoryID\n",
    "FROM Products\n",
    "GROUP BY CategoryID;\n",
    "\"\"\"\n",
    "execute(query)"
   ]
  },
  {
   "cell_type": "markdown",
   "id": "370a4d29",
   "metadata": {},
   "source": [
    "## 8. LIKE"
   ]
  },
  {
   "cell_type": "code",
   "execution_count": 58,
   "id": "fa768fbd",
   "metadata": {},
   "outputs": [
    {
     "name": "stdout",
     "output_type": "stream",
     "text": [
      "--------------------\n",
      "QUERY: \n",
      "SELECT * FROM Customers\n",
      "WHERE CustomerName LIKE 'a%';\n",
      "\n",
      "RESULT:\n",
      "(1, 'Alfreds Futterkiste ', 'Maria Anders ', 'Obere Str. 57 ', 'Berlin ', '12209 ', 'Germany')\n",
      "(2, 'Ana Trujillo Emparedados y helados ', 'Ana Trujillo ', 'Avda. de la Constitución 2222 ', 'México D.F. ', '05021 ', 'Mexico')\n",
      "(3, 'Antonio Moreno Taquería ', 'Antonio Moreno ', 'Mataderos 2312 ', 'México D.F. ', '05023 ', 'Mexico')\n",
      "(4, 'Around the Horn ', 'Thomas Hardy ', '120 Hanover Sq. ', 'London ', 'WA1 1DP ', 'UK')\n",
      "\n"
     ]
    }
   ],
   "source": [
    "query = \"\"\"\n",
    "SELECT * FROM Customers\n",
    "WHERE CustomerName LIKE 'a%';\n",
    "\"\"\"\n",
    "execute(query)"
   ]
  },
  {
   "cell_type": "code",
   "execution_count": 59,
   "id": "a7605b45",
   "metadata": {},
   "outputs": [
    {
     "name": "stdout",
     "output_type": "stream",
     "text": [
      "--------------------\n",
      "QUERY: \n",
      "SELECT * FROM Customers\n",
      "WHERE city LIKE 'L_nd__';\n",
      "\n",
      "RESULT:\n",
      "\n"
     ]
    }
   ],
   "source": [
    "query = \"\"\"\n",
    "SELECT * FROM Customers\n",
    "WHERE city LIKE 'L_nd__';\n",
    "\"\"\"\n",
    "execute(query)"
   ]
  },
  {
   "cell_type": "code",
   "execution_count": 60,
   "id": "bced00b9",
   "metadata": {},
   "outputs": [
    {
     "name": "stdout",
     "output_type": "stream",
     "text": [
      "--------------------\n",
      "QUERY: \n",
      "SELECT * FROM Customers\n",
      "WHERE city LIKE '%L%';\n",
      "\n",
      "RESULT:\n",
      "(1, 'Alfreds Futterkiste ', 'Maria Anders ', 'Obere Str. 57 ', 'Berlin ', '12209 ', 'Germany')\n",
      "(4, 'Around the Horn ', 'Thomas Hardy ', '120 Hanover Sq. ', 'London ', 'WA1 1DP ', 'UK')\n",
      "(5, 'Berglunds snabbköp ', 'Christina Berglund ', 'Berguvsvägen 8 ', 'Luleå ', 'S-958 22 ', 'Sweden')\n",
      "(9, \"Bon app' \", 'Laurence Lebihans ', '12, rue des Bouchers ', 'Marseille ', '13008 ', 'France')\n",
      "(11, \"B's Beverages \", 'Victoria Ashworth ', 'Fauntleroy Circus ', 'London ', 'EC2 5NT ', 'UK')\n",
      "\n"
     ]
    }
   ],
   "source": [
    "query = \"\"\"\n",
    "SELECT * FROM Customers\n",
    "WHERE city LIKE '%L%';\n",
    "\"\"\"\n",
    "execute(query)"
   ]
  },
  {
   "cell_type": "code",
   "execution_count": 61,
   "id": "6d550ca6",
   "metadata": {},
   "outputs": [
    {
     "name": "stdout",
     "output_type": "stream",
     "text": [
      "--------------------\n",
      "QUERY: \n",
      "SELECT * FROM Customers\n",
      "WHERE CustomerName LIKE 'La%';\n",
      "\n",
      "RESULT:\n",
      "(40, \"La corne d'abondance \", 'Daniel Tonini ', \"67, avenue de l'Europe \", 'Versailles ', '78000 ', 'France')\n",
      "(41, \"La maison d'Asie \", 'Annette Roulet ', '1 rue Alsace-Lorraine ', 'Toulouse ', '31000 ', 'France')\n",
      "(42, 'Laughing Bacchus Wine Cellars ', 'Yoshi Tannamuri ', '1900 Oak St. ', 'Vancouver ', 'V3F 2K1 ', 'Canada')\n",
      "(43, 'Lazy K Kountry Store ', 'John Steel ', '12 Orchestra Terrace ', 'Walla Walla ', '99362 ', 'USA')\n",
      "\n"
     ]
    }
   ],
   "source": [
    "query = \"\"\"\n",
    "SELECT * FROM Customers\n",
    "WHERE CustomerName LIKE 'La%';\n",
    "\"\"\"\n",
    "execute(query)"
   ]
  },
  {
   "cell_type": "code",
   "execution_count": 62,
   "id": "7b4b4672",
   "metadata": {},
   "outputs": [
    {
     "name": "stdout",
     "output_type": "stream",
     "text": [
      "--------------------\n",
      "QUERY: \n",
      "SELECT * FROM Customers\n",
      "WHERE CustomerName LIKE 'a%' OR CustomerName LIKE 'b%';\n",
      "\n",
      "RESULT:\n",
      "(1, 'Alfreds Futterkiste ', 'Maria Anders ', 'Obere Str. 57 ', 'Berlin ', '12209 ', 'Germany')\n",
      "(2, 'Ana Trujillo Emparedados y helados ', 'Ana Trujillo ', 'Avda. de la Constitución 2222 ', 'México D.F. ', '05021 ', 'Mexico')\n",
      "(3, 'Antonio Moreno Taquería ', 'Antonio Moreno ', 'Mataderos 2312 ', 'México D.F. ', '05023 ', 'Mexico')\n",
      "(4, 'Around the Horn ', 'Thomas Hardy ', '120 Hanover Sq. ', 'London ', 'WA1 1DP ', 'UK')\n",
      "(5, 'Berglunds snabbköp ', 'Christina Berglund ', 'Berguvsvägen 8 ', 'Luleå ', 'S-958 22 ', 'Sweden')\n",
      "\n"
     ]
    }
   ],
   "source": [
    "query = \"\"\"\n",
    "SELECT * FROM Customers\n",
    "WHERE CustomerName LIKE 'a%' OR CustomerName LIKE 'b%';\n",
    "\"\"\"\n",
    "execute(query)"
   ]
  },
  {
   "cell_type": "code",
   "execution_count": 63,
   "id": "dc11a70a",
   "metadata": {},
   "outputs": [
    {
     "name": "stdout",
     "output_type": "stream",
     "text": [
      "--------------------\n",
      "QUERY: \n",
      "SELECT * FROM Customers\n",
      "WHERE CustomerName LIKE '%a';\n",
      "\n",
      "RESULT:\n",
      "\n"
     ]
    }
   ],
   "source": [
    "query = \"\"\"\n",
    "SELECT * FROM Customers\n",
    "WHERE CustomerName LIKE '%a';\n",
    "\"\"\"\n",
    "execute(query)"
   ]
  },
  {
   "cell_type": "code",
   "execution_count": 64,
   "id": "aae57586",
   "metadata": {},
   "outputs": [
    {
     "name": "stdout",
     "output_type": "stream",
     "text": [
      "--------------------\n",
      "QUERY: \n",
      "SELECT * FROM Customers\n",
      "WHERE CustomerName LIKE 'b%s';\n",
      "\n",
      "RESULT:\n",
      "\n"
     ]
    }
   ],
   "source": [
    "query = \"\"\"\n",
    "SELECT * FROM Customers\n",
    "WHERE CustomerName LIKE 'b%s';\n",
    "\"\"\"\n",
    "execute(query)"
   ]
  },
  {
   "cell_type": "code",
   "execution_count": 65,
   "id": "d17a5ea3",
   "metadata": {},
   "outputs": [
    {
     "name": "stdout",
     "output_type": "stream",
     "text": [
      "--------------------\n",
      "QUERY: \n",
      "SELECT * FROM Customers\n",
      "WHERE CustomerName LIKE '%or%';\n",
      "\n",
      "RESULT:\n",
      "(3, 'Antonio Moreno Taquería ', 'Antonio Moreno ', 'Mataderos 2312 ', 'México D.F. ', '05023 ', 'Mexico')\n",
      "(4, 'Around the Horn ', 'Thomas Hardy ', '120 Hanover Sq. ', 'London ', 'WA1 1DP ', 'UK')\n",
      "(36, 'Hungry Coyote Import Store ', 'Yoshi Latimer ', 'City Center Plaza 516 Main St. ', 'Elgin ', '97827 ', 'USA')\n",
      "(40, \"La corne d'abondance \", 'Daniel Tonini ', \"67, avenue de l'Europe \", 'Versailles ', '78000 ', 'France')\n",
      "(43, 'Lazy K Kountry Store ', 'John Steel ', '12 Orchestra Terrace ', 'Walla Walla ', '99362 ', 'USA')\n",
      "\n"
     ]
    }
   ],
   "source": [
    "query = \"\"\"\n",
    "SELECT * FROM Customers\n",
    "WHERE CustomerName LIKE '%or%';\n",
    "\"\"\"\n",
    "execute(query)"
   ]
  },
  {
   "cell_type": "code",
   "execution_count": 66,
   "id": "bad3193c",
   "metadata": {},
   "outputs": [
    {
     "name": "stdout",
     "output_type": "stream",
     "text": [
      "--------------------\n",
      "QUERY: \n",
      "SELECT * FROM Customers\n",
      "WHERE CustomerName LIKE 'a__%';\n",
      "\n",
      "RESULT:\n",
      "(1, 'Alfreds Futterkiste ', 'Maria Anders ', 'Obere Str. 57 ', 'Berlin ', '12209 ', 'Germany')\n",
      "(2, 'Ana Trujillo Emparedados y helados ', 'Ana Trujillo ', 'Avda. de la Constitución 2222 ', 'México D.F. ', '05021 ', 'Mexico')\n",
      "(3, 'Antonio Moreno Taquería ', 'Antonio Moreno ', 'Mataderos 2312 ', 'México D.F. ', '05023 ', 'Mexico')\n",
      "(4, 'Around the Horn ', 'Thomas Hardy ', '120 Hanover Sq. ', 'London ', 'WA1 1DP ', 'UK')\n",
      "\n"
     ]
    }
   ],
   "source": [
    "query = \"\"\"\n",
    "SELECT * FROM Customers\n",
    "WHERE CustomerName LIKE 'a__%';\n",
    "\"\"\"\n",
    "execute(query)"
   ]
  },
  {
   "cell_type": "code",
   "execution_count": 67,
   "id": "2d47009b",
   "metadata": {},
   "outputs": [
    {
     "name": "stdout",
     "output_type": "stream",
     "text": [
      "--------------------\n",
      "QUERY: \n",
      "SELECT * FROM Customers\n",
      "WHERE CustomerName LIKE '_r%';\n",
      "\n",
      "RESULT:\n",
      "(4, 'Around the Horn ', 'Thomas Hardy ', '120 Hanover Sq. ', 'London ', 'WA1 1DP ', 'UK')\n",
      "(17, 'Drachenblut Delikatessend ', 'Sven Ottlieb ', 'Walserweg 21 ', 'Aachen ', '52066 ', 'Germany')\n",
      "(20, 'Ernst Handel ', 'Roland Mendel ', 'Kirchgasse 6 ', 'Graz ', '8010 ', 'Austria')\n",
      "(25, 'Frankenversand ', 'Peter Franken ', 'Berliner Platz 43 ', 'München ', '80805 ', 'Germany')\n",
      "(26, 'France restauration ', 'Carine Schmitt ', '54, rue Royale ', 'Nantes ', '44000 ', 'France')\n",
      "\n"
     ]
    }
   ],
   "source": [
    "query = \"\"\"\n",
    "SELECT * FROM Customers\n",
    "WHERE CustomerName LIKE '_r%';\n",
    "\"\"\"\n",
    "execute(query)"
   ]
  },
  {
   "cell_type": "code",
   "execution_count": 68,
   "id": "3781b164",
   "metadata": {},
   "outputs": [
    {
     "name": "stdout",
     "output_type": "stream",
     "text": [
      "--------------------\n",
      "QUERY: \n",
      "SELECT * FROM Customers\n",
      "WHERE Country LIKE 'Spain';\n",
      "\n",
      "RESULT:\n",
      "(8, 'Bólido Comidas preparadas ', 'Martín Sommer ', 'C/ Araquil, 67 ', 'Madrid ', '28023 ', 'Spain')\n",
      "(22, 'FISSA Fabrica Inter. Salchichas S.A. ', 'Diego Roel ', 'C/ Moralzarzal, 86 ', 'Madrid ', '28034 ', 'Spain')\n",
      "(29, 'Galería del gastrónomo ', 'Eduardo Saavedra ', 'Rambla de Cataluña, 23 ', 'Barcelona ', '08022 ', 'Spain')\n",
      "(30, 'Godos Cocina Típica ', 'José Pedro Freyre ', 'C/ Romero, 33 ', 'Sevilla ', '41101 ', 'Spain')\n",
      "(69, 'Romero y tomillo ', 'Alejandra Camino ', 'Gran Vía, 1 ', 'Madrid ', '28001 ', 'Spain')\n",
      "\n"
     ]
    }
   ],
   "source": [
    "query = \"\"\"\n",
    "SELECT * FROM Customers\n",
    "WHERE Country LIKE 'Spain';\n",
    "\"\"\"\n",
    "execute(query)"
   ]
  },
  {
   "cell_type": "markdown",
   "id": "62bd79ae",
   "metadata": {},
   "source": [
    "## 9. BETWEEN "
   ]
  },
  {
   "cell_type": "code",
   "execution_count": 69,
   "id": "b2371b95",
   "metadata": {},
   "outputs": [
    {
     "name": "stdout",
     "output_type": "stream",
     "text": [
      "--------------------\n",
      "QUERY: \n",
      "SELECT * FROM Customers\n",
      "WHERE Country IN ('Germany', 'France', 'UK');\n",
      "\n",
      "RESULT:\n",
      "(1, 'Alfreds Futterkiste ', 'Maria Anders ', 'Obere Str. 57 ', 'Berlin ', '12209 ', 'Germany')\n",
      "(4, 'Around the Horn ', 'Thomas Hardy ', '120 Hanover Sq. ', 'London ', 'WA1 1DP ', 'UK')\n",
      "(6, 'Blauer See Delikatessen ', 'Hanna Moos ', 'Forsterstr. 57 ', 'Mannheim ', '68306 ', 'Germany')\n",
      "(7, 'Blondel père et fils ', 'Frédérique Citeaux ', '24, place Kléber ', 'Strasbourg ', '67000 ', 'France')\n",
      "(9, \"Bon app' \", 'Laurence Lebihans ', '12, rue des Bouchers ', 'Marseille ', '13008 ', 'France')\n",
      "\n"
     ]
    }
   ],
   "source": [
    "query = \"\"\"\n",
    "SELECT * FROM Customers\n",
    "WHERE Country IN ('Germany', 'France', 'UK');\n",
    "\"\"\"\n",
    "execute(query)"
   ]
  },
  {
   "cell_type": "code",
   "execution_count": 70,
   "id": "48a86264",
   "metadata": {},
   "outputs": [
    {
     "name": "stdout",
     "output_type": "stream",
     "text": [
      "--------------------\n",
      "QUERY: \n",
      "SELECT * FROM Customers\n",
      "WHERE Country NOT IN ('Germany', 'France', 'UK');\n",
      "\n",
      "RESULT:\n",
      "(2, 'Ana Trujillo Emparedados y helados ', 'Ana Trujillo ', 'Avda. de la Constitución 2222 ', 'México D.F. ', '05021 ', 'Mexico')\n",
      "(3, 'Antonio Moreno Taquería ', 'Antonio Moreno ', 'Mataderos 2312 ', 'México D.F. ', '05023 ', 'Mexico')\n",
      "(5, 'Berglunds snabbköp ', 'Christina Berglund ', 'Berguvsvägen 8 ', 'Luleå ', 'S-958 22 ', 'Sweden')\n",
      "(8, 'Bólido Comidas preparadas ', 'Martín Sommer ', 'C/ Araquil, 67 ', 'Madrid ', '28023 ', 'Spain')\n",
      "(10, 'Bottom-Dollar Marketse ', 'Elizabeth Lincoln ', '23 Tsawassen Blvd. ', 'Tsawassen ', 'T2F 8M4 ', 'Canada')\n",
      "\n"
     ]
    }
   ],
   "source": [
    "query = \"\"\"\n",
    "SELECT * FROM Customers\n",
    "WHERE Country NOT IN ('Germany', 'France', 'UK');\n",
    "\"\"\"\n",
    "execute(query)"
   ]
  },
  {
   "cell_type": "code",
   "execution_count": 71,
   "id": "3efaae71",
   "metadata": {},
   "outputs": [
    {
     "name": "stdout",
     "output_type": "stream",
     "text": [
      "--------------------\n",
      "QUERY: \n",
      "SELECT * FROM Customers\n",
      "WHERE CustomerID IN (SELECT CustomerID FROM Orders);\n",
      "\n",
      "RESULT:\n",
      "(2, 'Ana Trujillo Emparedados y helados ', 'Ana Trujillo ', 'Avda. de la Constitución 2222 ', 'México D.F. ', '05021 ', 'Mexico')\n",
      "(3, 'Antonio Moreno Taquería ', 'Antonio Moreno ', 'Mataderos 2312 ', 'México D.F. ', '05023 ', 'Mexico')\n",
      "(4, 'Around the Horn ', 'Thomas Hardy ', '120 Hanover Sq. ', 'London ', 'WA1 1DP ', 'UK')\n",
      "(5, 'Berglunds snabbköp ', 'Christina Berglund ', 'Berguvsvägen 8 ', 'Luleå ', 'S-958 22 ', 'Sweden')\n",
      "(7, 'Blondel père et fils ', 'Frédérique Citeaux ', '24, place Kléber ', 'Strasbourg ', '67000 ', 'France')\n",
      "\n"
     ]
    }
   ],
   "source": [
    "query = \"\"\"\n",
    "SELECT * FROM Customers\n",
    "WHERE CustomerID IN (SELECT CustomerID FROM Orders);\n",
    "\"\"\"\n",
    "execute(query)"
   ]
  },
  {
   "cell_type": "code",
   "execution_count": 72,
   "id": "c1cc297f",
   "metadata": {},
   "outputs": [
    {
     "name": "stdout",
     "output_type": "stream",
     "text": [
      "--------------------\n",
      "QUERY: \n",
      "SELECT * FROM Customers\n",
      "WHERE CustomerID NOT IN (SELECT CustomerID FROM Orders);\n",
      "\n",
      "RESULT:\n",
      "(1, 'Alfreds Futterkiste ', 'Maria Anders ', 'Obere Str. 57 ', 'Berlin ', '12209 ', 'Germany')\n",
      "(6, 'Blauer See Delikatessen ', 'Hanna Moos ', 'Forsterstr. 57 ', 'Mannheim ', '68306 ', 'Germany')\n",
      "(12, 'Cactus Comidas para llevar ', 'Patricio Simpson ', 'Cerrito 333 ', 'Buenos Aires ', '1010 ', 'Argentina')\n",
      "(22, 'FISSA Fabrica Inter. Salchichas S.A. ', 'Diego Roel ', 'C/ Moralzarzal, 86 ', 'Madrid ', '28034 ', 'Spain')\n",
      "(26, 'France restauration ', 'Carine Schmitt ', '54, rue Royale ', 'Nantes ', '44000 ', 'France')\n",
      "\n"
     ]
    }
   ],
   "source": [
    "query = \"\"\"\n",
    "SELECT * FROM Customers\n",
    "WHERE CustomerID NOT IN (SELECT CustomerID FROM Orders);\n",
    "\"\"\"\n",
    "execute(query)"
   ]
  },
  {
   "cell_type": "code",
   "execution_count": 73,
   "id": "06ddbfbb",
   "metadata": {},
   "outputs": [
    {
     "name": "stdout",
     "output_type": "stream",
     "text": [
      "--------------------\n",
      "QUERY: \n",
      "SELECT * FROM Products\n",
      "WHERE Price BETWEEN 10 AND 20;\n",
      "\n",
      "RESULT:\n",
      "(1, 'Chais', 1, 1, '10 boxes x 20 bags', 18.0)\n",
      "(2, 'Chang', 1, 1, '24 - 12 oz bottles', 19.0)\n",
      "(3, 'Aniseed Syrup', 1, 2, '12 - 550 ml bottles', 10.0)\n",
      "(15, 'Genen Shouyu', 6, 2, '24 - 250 ml bottles', 15.5)\n",
      "(16, 'Pavlova', 7, 3, '32 - 500 g boxes', 17.45)\n",
      "\n"
     ]
    }
   ],
   "source": [
    "query = \"\"\"\n",
    "SELECT * FROM Products\n",
    "WHERE Price BETWEEN 10 AND 20;\n",
    "\"\"\"\n",
    "execute(query)"
   ]
  },
  {
   "cell_type": "code",
   "execution_count": 74,
   "id": "8b382d1f",
   "metadata": {},
   "outputs": [
    {
     "name": "stdout",
     "output_type": "stream",
     "text": [
      "--------------------\n",
      "QUERY: \n",
      "SELECT * FROM Products\n",
      "WHERE Price NOT BETWEEN 10 AND 20;\n",
      "\n",
      "RESULT:\n",
      "(4, \"Chef Anton's Cajun Seasoning\", 2, 2, '48 - 6 oz jars', 22.0)\n",
      "(5, \"Chef Anton's Gumbo Mix\", 2, 2, '36 boxes', 21.35)\n",
      "(6, \"Grandma's Boysenberry Spread\", 3, 2, '12 - 8 oz jars', 25.0)\n",
      "(7, \"Uncle Bob's Organic Dried Pears\", 3, 7, '12 - 1 lb pkgs.', 30.0)\n",
      "(8, 'Northwoods Cranberry Sauce', 3, 2, '12 - 12 oz jars', 40.0)\n",
      "\n"
     ]
    }
   ],
   "source": [
    "query = \"\"\"\n",
    "SELECT * FROM Products\n",
    "WHERE Price NOT BETWEEN 10 AND 20;\n",
    "\"\"\"\n",
    "execute(query)"
   ]
  },
  {
   "cell_type": "code",
   "execution_count": 75,
   "id": "b206b1bd",
   "metadata": {},
   "outputs": [
    {
     "name": "stdout",
     "output_type": "stream",
     "text": [
      "--------------------\n",
      "QUERY: \n",
      "SELECT * FROM Products\n",
      "WHERE Price BETWEEN 10 AND 20\n",
      "AND CategoryID IN (1,2,3);\n",
      "\n",
      "RESULT:\n",
      "(1, 'Chais', 1, 1, '10 boxes x 20 bags', 18.0)\n",
      "(2, 'Chang', 1, 1, '24 - 12 oz bottles', 19.0)\n",
      "(3, 'Aniseed Syrup', 1, 2, '12 - 550 ml bottles', 10.0)\n",
      "(15, 'Genen Shouyu', 6, 2, '24 - 250 ml bottles', 15.5)\n",
      "(16, 'Pavlova', 7, 3, '32 - 500 g boxes', 17.45)\n",
      "\n"
     ]
    }
   ],
   "source": [
    "query = \"\"\"\n",
    "SELECT * FROM Products\n",
    "WHERE Price BETWEEN 10 AND 20\n",
    "AND CategoryID IN (1,2,3);\n",
    "\"\"\"\n",
    "execute(query)"
   ]
  },
  {
   "cell_type": "code",
   "execution_count": 76,
   "id": "89b33c1f",
   "metadata": {},
   "outputs": [
    {
     "name": "stdout",
     "output_type": "stream",
     "text": [
      "--------------------\n",
      "QUERY: \n",
      "SELECT * FROM Products\n",
      "WHERE ProductName BETWEEN 'Carnarvon Tigers' AND 'Mozzarella di Giovanni'\n",
      "ORDER BY ProductName;\n",
      "\n",
      "RESULT:\n",
      "(18, 'Carnarvon Tigers', 7, 8, '16 kg pkg.', 62.5)\n",
      "(1, 'Chais', 1, 1, '10 boxes x 20 bags', 18.0)\n",
      "(2, 'Chang', 1, 1, '24 - 12 oz bottles', 19.0)\n",
      "(39, 'Chartreuse verte', 18, 1, '750 cc per bottle', 18.0)\n",
      "(4, \"Chef Anton's Cajun Seasoning\", 2, 2, '48 - 6 oz jars', 22.0)\n",
      "\n"
     ]
    }
   ],
   "source": [
    "query = \"\"\"\n",
    "SELECT * FROM Products\n",
    "WHERE ProductName BETWEEN 'Carnarvon Tigers' AND 'Mozzarella di Giovanni'\n",
    "ORDER BY ProductName;\n",
    "\"\"\"\n",
    "execute(query)"
   ]
  },
  {
   "cell_type": "code",
   "execution_count": 77,
   "id": "2aa3b20e",
   "metadata": {},
   "outputs": [
    {
     "name": "stdout",
     "output_type": "stream",
     "text": [
      "--------------------\n",
      "QUERY: \n",
      "SELECT * FROM Products\n",
      "WHERE ProductName BETWEEN \"Carnarvon Tigers\" AND \"Chef Anton's Cajun Seasoning\"\n",
      "ORDER BY ProductName;\n",
      "\n",
      "RESULT:\n",
      "(18, 'Carnarvon Tigers', 7, 8, '16 kg pkg.', 62.5)\n",
      "(1, 'Chais', 1, 1, '10 boxes x 20 bags', 18.0)\n",
      "(2, 'Chang', 1, 1, '24 - 12 oz bottles', 19.0)\n",
      "(39, 'Chartreuse verte', 18, 1, '750 cc per bottle', 18.0)\n",
      "(4, \"Chef Anton's Cajun Seasoning\", 2, 2, '48 - 6 oz jars', 22.0)\n",
      "\n"
     ]
    }
   ],
   "source": [
    "query = \"\"\"\n",
    "SELECT * FROM Products\n",
    "WHERE ProductName BETWEEN \"Carnarvon Tigers\" AND \"Chef Anton's Cajun Seasoning\"\n",
    "ORDER BY ProductName;\n",
    "\"\"\"\n",
    "execute(query)"
   ]
  },
  {
   "cell_type": "code",
   "execution_count": 78,
   "id": "4d2f8b7a",
   "metadata": {},
   "outputs": [
    {
     "name": "stdout",
     "output_type": "stream",
     "text": [
      "--------------------\n",
      "QUERY: \n",
      "SELECT * FROM Products\n",
      "WHERE ProductName NOT BETWEEN 'Carnarvon Tigers' AND 'Mozzarella di Giovanni'\n",
      "ORDER BY ProductName;\n",
      "\n",
      "RESULT:\n",
      "(17, 'Alice Mutton', 7, 6, '20 - 1 kg tins', 39.0)\n",
      "(3, 'Aniseed Syrup', 1, 2, '12 - 550 ml bottles', 10.0)\n",
      "(40, 'Boston Crab Meat', 19, 8, '24 - 4 oz tins', 18.4)\n",
      "(60, 'Camembert Pierrot', 28, 4, '15 - 300 g rounds', 34.0)\n",
      "(30, 'Nord-Ost Matjeshering', 13, 8, '10 - 200 g glasses', 25.89)\n",
      "\n"
     ]
    }
   ],
   "source": [
    "query = \"\"\"\n",
    "SELECT * FROM Products\n",
    "WHERE ProductName NOT BETWEEN 'Carnarvon Tigers' AND 'Mozzarella di Giovanni'\n",
    "ORDER BY ProductName;\n",
    "\"\"\"\n",
    "execute(query)"
   ]
  },
  {
   "cell_type": "code",
   "execution_count": 79,
   "id": "0b6f30ee",
   "metadata": {},
   "outputs": [
    {
     "name": "stdout",
     "output_type": "stream",
     "text": [
      "--------------------\n",
      "QUERY: \n",
      "SELECT * FROM Products\n",
      "WHERE ProductName NOT BETWEEN 'Carnarvon Tigers' AND 'Mozzarella di Giovanni'\n",
      "ORDER BY ProductName;\n",
      "\n",
      "RESULT:\n",
      "(17, 'Alice Mutton', 7, 6, '20 - 1 kg tins', 39.0)\n",
      "(3, 'Aniseed Syrup', 1, 2, '12 - 550 ml bottles', 10.0)\n",
      "(40, 'Boston Crab Meat', 19, 8, '24 - 4 oz tins', 18.4)\n",
      "(60, 'Camembert Pierrot', 28, 4, '15 - 300 g rounds', 34.0)\n",
      "(30, 'Nord-Ost Matjeshering', 13, 8, '10 - 200 g glasses', 25.89)\n",
      "\n"
     ]
    }
   ],
   "source": [
    "query = \"\"\"\n",
    "SELECT * FROM Products\n",
    "WHERE ProductName NOT BETWEEN 'Carnarvon Tigers' AND 'Mozzarella di Giovanni'\n",
    "ORDER BY ProductName;\n",
    "\"\"\"\n",
    "execute(query)"
   ]
  },
  {
   "cell_type": "markdown",
   "id": "9bca806b",
   "metadata": {},
   "source": [
    "## 10. JOIN"
   ]
  },
  {
   "cell_type": "code",
   "execution_count": 80,
   "id": "2058444b",
   "metadata": {},
   "outputs": [
    {
     "name": "stdout",
     "output_type": "stream",
     "text": [
      "--------------------\n",
      "QUERY: \n",
      "SELECT CustomerName, Address + ', ' + PostalCode + ' ' + City + ', ' + Country AS Address\n",
      "FROM Customers;\n",
      "\n",
      "RESULT:\n",
      "('Alfreds Futterkiste ', 12209)\n",
      "('Ana Trujillo Emparedados y helados ', 5021)\n",
      "('Antonio Moreno Taquería ', 5023)\n",
      "('Around the Horn ', 120)\n",
      "('Berglunds snabbköp ', 0)\n",
      "\n"
     ]
    }
   ],
   "source": [
    "query = \"\"\"\n",
    "SELECT CustomerName, Address + ', ' + PostalCode + ' ' + City + ', ' + Country AS Address\n",
    "FROM Customers;\n",
    "\"\"\"\n",
    "execute(query)"
   ]
  },
  {
   "cell_type": "code",
   "execution_count": 81,
   "id": "b2c241ec",
   "metadata": {},
   "outputs": [
    {
     "name": "stdout",
     "output_type": "stream",
     "text": [
      "--------------------\n",
      "QUERY: \n",
      "SELECT Orders.OrderID, Customers.CustomerName, Orders.OrderDate\n",
      "FROM Orders\n",
      "INNER JOIN Customers ON Orders.CustomerID=Customers.CustomerID;\n",
      "\n",
      "RESULT:\n",
      "(10248, 'Wilman Kala ', '7/4/1996')\n",
      "(10249, 'Tradição Hipermercados ', '7/5/1996')\n",
      "(10250, 'Hanari Carnes ', '7/8/1996')\n",
      "(10251, 'Victuailles en stock ', '7/8/1996')\n",
      "(10252, 'Suprêmes délices ', '7/9/1996')\n",
      "\n"
     ]
    }
   ],
   "source": [
    "query = \"\"\"\n",
    "SELECT Orders.OrderID, Customers.CustomerName, Orders.OrderDate\n",
    "FROM Orders\n",
    "INNER JOIN Customers ON Orders.CustomerID=Customers.CustomerID;\n",
    "\"\"\"\n",
    "execute(query)"
   ]
  },
  {
   "cell_type": "code",
   "execution_count": 82,
   "id": "661488c6",
   "metadata": {},
   "outputs": [
    {
     "name": "stdout",
     "output_type": "stream",
     "text": [
      "--------------------\n",
      "QUERY: \n",
      "SELECT Products.ProductID, Products.ProductName, Categories.CategoryName\n",
      "FROM Products\n",
      "INNER JOIN Categories ON Products.CategoryID = Categories.CategoryID;\n",
      "\n",
      "RESULT:\n",
      "(1, 'Chais', 'Beverages')\n",
      "(2, 'Chang', 'Beverages')\n",
      "(3, 'Aniseed Syrup', 'Condiments')\n",
      "(4, \"Chef Anton's Cajun Seasoning\", 'Condiments')\n",
      "(5, \"Chef Anton's Gumbo Mix\", 'Condiments')\n",
      "\n"
     ]
    }
   ],
   "source": [
    "query = \"\"\"\n",
    "SELECT Products.ProductID, Products.ProductName, Categories.CategoryName\n",
    "FROM Products\n",
    "INNER JOIN Categories ON Products.CategoryID = Categories.CategoryID;\n",
    "\"\"\"\n",
    "execute(query)"
   ]
  },
  {
   "cell_type": "code",
   "execution_count": 83,
   "id": "25be3f0e",
   "metadata": {},
   "outputs": [
    {
     "name": "stdout",
     "output_type": "stream",
     "text": [
      "--------------------\n",
      "QUERY: \n",
      "SELECT Products.ProductID, Products.ProductName, Categories.CategoryName\n",
      "FROM Products\n",
      "JOIN Categories ON Products.CategoryID = Categories.CategoryID;\n",
      "\n",
      "RESULT:\n",
      "(1, 'Chais', 'Beverages')\n",
      "(2, 'Chang', 'Beverages')\n",
      "(3, 'Aniseed Syrup', 'Condiments')\n",
      "(4, \"Chef Anton's Cajun Seasoning\", 'Condiments')\n",
      "(5, \"Chef Anton's Gumbo Mix\", 'Condiments')\n",
      "\n"
     ]
    }
   ],
   "source": [
    "query = \"\"\"\n",
    "SELECT Products.ProductID, Products.ProductName, Categories.CategoryName\n",
    "FROM Products\n",
    "JOIN Categories ON Products.CategoryID = Categories.CategoryID;\n",
    "\"\"\"\n",
    "execute(query)"
   ]
  },
  {
   "cell_type": "code",
   "execution_count": 84,
   "id": "6f78cce4",
   "metadata": {},
   "outputs": [
    {
     "name": "stdout",
     "output_type": "stream",
     "text": [
      "--------------------\n",
      "QUERY: \n",
      "SELECT Orders.OrderID, Customers.CustomerName, Shippers.ShipperName\n",
      "FROM ((Orders\n",
      "INNER JOIN Customers ON Orders.CustomerID = Customers.CustomerID)\n",
      "INNER JOIN Shippers ON Orders.ShipperID = Shippers.ShipperID);\n",
      "\n",
      "RESULT:\n",
      "(10248, 'Wilman Kala ', 'Federal Shipping')\n",
      "(10249, 'Tradição Hipermercados ', 'Speedy Express')\n",
      "(10250, 'Hanari Carnes ', 'United Package')\n",
      "(10251, 'Victuailles en stock ', 'Speedy Express')\n",
      "(10252, 'Suprêmes délices ', 'United Package')\n",
      "\n"
     ]
    }
   ],
   "source": [
    "query = \"\"\"\n",
    "SELECT Orders.OrderID, Customers.CustomerName, Shippers.ShipperName\n",
    "FROM ((Orders\n",
    "INNER JOIN Customers ON Orders.CustomerID = Customers.CustomerID)\n",
    "INNER JOIN Shippers ON Orders.ShipperID = Shippers.ShipperID);\n",
    "\"\"\"\n",
    "execute(query)"
   ]
  },
  {
   "cell_type": "code",
   "execution_count": 85,
   "id": "d22019b5",
   "metadata": {},
   "outputs": [
    {
     "name": "stdout",
     "output_type": "stream",
     "text": [
      "--------------------\n",
      "QUERY: \n",
      "SELECT Customers.CustomerName, Orders.OrderID\n",
      "FROM Customers\n",
      "LEFT JOIN Orders ON Customers.CustomerID = Orders.CustomerID\n",
      "ORDER BY Customers.CustomerName;\n",
      "\n",
      "RESULT:\n",
      "('Alfreds Futterkiste ', None)\n",
      "('Ana Trujillo Emparedados y helados ', 10308)\n",
      "('Antonio Moreno Taquería ', 10365)\n",
      "('Around the Horn ', 10355)\n",
      "('Around the Horn ', 10383)\n",
      "\n"
     ]
    }
   ],
   "source": [
    "query = \"\"\"\n",
    "SELECT Customers.CustomerName, Orders.OrderID\n",
    "FROM Customers\n",
    "LEFT JOIN Orders ON Customers.CustomerID = Orders.CustomerID\n",
    "ORDER BY Customers.CustomerName;\n",
    "\"\"\"\n",
    "execute(query)"
   ]
  },
  {
   "cell_type": "code",
   "execution_count": 86,
   "id": "7866c13f",
   "metadata": {},
   "outputs": [
    {
     "name": "stdout",
     "output_type": "stream",
     "text": [
      "--------------------\n",
      "QUERY: \n",
      "SELECT Orders.OrderID, Employees.LastName, Employees.FirstName\n",
      "FROM Orders\n",
      "RIGHT JOIN Employees ON Orders.EmployeeID = Employees.EmployeeID\n",
      "ORDER BY Orders.OrderID;\n",
      "\n",
      "RESULT:\n",
      "(None, 'West', 'Adam')\n",
      "(10248, 'Buchanan', 'Steven')\n",
      "(10249, 'Suyama', 'Michael')\n",
      "(10250, 'Peacock', 'Margaret')\n",
      "(10251, 'Leverling', 'Janet')\n",
      "\n"
     ]
    }
   ],
   "source": [
    "query = \"\"\"\n",
    "SELECT Orders.OrderID, Employees.LastName, Employees.FirstName\n",
    "FROM Orders\n",
    "RIGHT JOIN Employees ON Orders.EmployeeID = Employees.EmployeeID\n",
    "ORDER BY Orders.OrderID;\n",
    "\"\"\"\n",
    "execute(query)"
   ]
  },
  {
   "cell_type": "code",
   "execution_count": 87,
   "id": "f6a07f96",
   "metadata": {},
   "outputs": [
    {
     "name": "stdout",
     "output_type": "stream",
     "text": [
      "--------------------\n",
      "QUERY: \n",
      "SELECT Customers.CustomerName, Orders.OrderID\n",
      "FROM Customers\n",
      "FULL OUTER JOIN Orders ON Customers.CustomerID=Orders.CustomerID\n",
      "ORDER BY Customers.CustomerName;\n",
      "\n",
      "RESULT:\n",
      "('Alfreds Futterkiste ', None)\n",
      "('Ana Trujillo Emparedados y helados ', 10308)\n",
      "('Antonio Moreno Taquería ', 10365)\n",
      "('Around the Horn ', 10355)\n",
      "('Around the Horn ', 10383)\n",
      "\n"
     ]
    }
   ],
   "source": [
    "query = \"\"\"\n",
    "SELECT Customers.CustomerName, Orders.OrderID\n",
    "FROM Customers\n",
    "FULL OUTER JOIN Orders ON Customers.CustomerID=Orders.CustomerID\n",
    "ORDER BY Customers.CustomerName;\n",
    "\"\"\"\n",
    "execute(query)"
   ]
  },
  {
   "cell_type": "code",
   "execution_count": 88,
   "id": "5f81b91c",
   "metadata": {},
   "outputs": [
    {
     "name": "stdout",
     "output_type": "stream",
     "text": [
      "--------------------\n",
      "QUERY: \n",
      "SELECT A.CustomerName AS CustomerName1, B.CustomerName AS CustomerName2, A.City\n",
      "FROM Customers A, Customers B\n",
      "WHERE A.CustomerID <> B.CustomerID\n",
      "AND A.City = B.City\n",
      "ORDER BY A.City;\n",
      "\n",
      "RESULT:\n",
      "('Cactus Comidas para llevar ', 'Océano Atlántico Ltda. ', 'Buenos Aires ')\n",
      "('Cactus Comidas para llevar ', 'Rancho grande ', 'Buenos Aires ')\n",
      "('Océano Atlántico Ltda. ', 'Cactus Comidas para llevar ', 'Buenos Aires ')\n",
      "('Océano Atlántico Ltda. ', 'Rancho grande ', 'Buenos Aires ')\n",
      "('Rancho grande ', 'Cactus Comidas para llevar ', 'Buenos Aires ')\n",
      "\n"
     ]
    }
   ],
   "source": [
    "query = \"\"\"\n",
    "SELECT A.CustomerName AS CustomerName1, B.CustomerName AS CustomerName2, A.City\n",
    "FROM Customers A, Customers B\n",
    "WHERE A.CustomerID <> B.CustomerID\n",
    "AND A.City = B.City\n",
    "ORDER BY A.City;\n",
    "\"\"\"\n",
    "execute(query)"
   ]
  },
  {
   "cell_type": "markdown",
   "id": "d2963f6b",
   "metadata": {},
   "source": [
    "## 11. UNION"
   ]
  },
  {
   "cell_type": "code",
   "execution_count": 89,
   "id": "71d9c826",
   "metadata": {},
   "outputs": [
    {
     "name": "stdout",
     "output_type": "stream",
     "text": [
      "--------------------\n",
      "QUERY: \n",
      "SELECT City FROM Customers\n",
      "UNION ALL\n",
      "SELECT City FROM Suppliers\n",
      "ORDER BY City;\n",
      "\n",
      "RESULT:\n",
      "('Aachen ',)\n",
      "('Albuquerque ',)\n",
      "('Anchorage ',)\n",
      "('Ann Arbor',)\n",
      "('Annecy',)\n",
      "\n"
     ]
    }
   ],
   "source": [
    "query = \"\"\"\n",
    "SELECT City FROM Customers\n",
    "UNION ALL\n",
    "SELECT City FROM Suppliers\n",
    "ORDER BY City;\n",
    "\"\"\"\n",
    "execute(query)"
   ]
  },
  {
   "cell_type": "code",
   "execution_count": 90,
   "id": "2902917f",
   "metadata": {},
   "outputs": [
    {
     "name": "stdout",
     "output_type": "stream",
     "text": [
      "--------------------\n",
      "QUERY: \n",
      "SELECT City, Country FROM Customers\n",
      "WHERE Country='Germany'\n",
      "UNION\n",
      "SELECT City, Country FROM Suppliers\n",
      "WHERE Country='Germany'\n",
      "ORDER BY City;\n",
      "\n",
      "RESULT:\n",
      "('Aachen ', 'Germany')\n",
      "('Berlin', 'Germany')\n",
      "('Berlin ', 'Germany')\n",
      "('Brandenburg ', 'Germany')\n",
      "('Cunewalde ', 'Germany')\n",
      "\n"
     ]
    }
   ],
   "source": [
    "query = \"\"\"\n",
    "SELECT City, Country FROM Customers\n",
    "WHERE Country='Germany'\n",
    "UNION\n",
    "SELECT City, Country FROM Suppliers\n",
    "WHERE Country='Germany'\n",
    "ORDER BY City;\n",
    "\"\"\"\n",
    "execute(query)"
   ]
  },
  {
   "cell_type": "code",
   "execution_count": 91,
   "id": "89575504",
   "metadata": {},
   "outputs": [
    {
     "name": "stdout",
     "output_type": "stream",
     "text": [
      "--------------------\n",
      "QUERY: \n",
      "SELECT City, Country FROM Customers\n",
      "WHERE Country='Germany'\n",
      "UNION ALL\n",
      "SELECT City, Country FROM Suppliers\n",
      "WHERE Country='Germany'\n",
      "ORDER BY City;\n",
      "\n",
      "RESULT:\n",
      "('Aachen ', 'Germany')\n",
      "('Berlin', 'Germany')\n",
      "('Berlin ', 'Germany')\n",
      "('Brandenburg ', 'Germany')\n",
      "('Cunewalde ', 'Germany')\n",
      "\n"
     ]
    }
   ],
   "source": [
    "query = \"\"\"\n",
    "SELECT City, Country FROM Customers\n",
    "WHERE Country='Germany'\n",
    "UNION ALL\n",
    "SELECT City, Country FROM Suppliers\n",
    "WHERE Country='Germany'\n",
    "ORDER BY City;\n",
    "\"\"\"\n",
    "execute(query)"
   ]
  },
  {
   "cell_type": "code",
   "execution_count": 92,
   "id": "8d8828aa",
   "metadata": {},
   "outputs": [
    {
     "name": "stdout",
     "output_type": "stream",
     "text": [
      "--------------------\n",
      "QUERY: \n",
      "SELECT 'Customer' AS Type, ContactName, City, Country\n",
      "FROM Customers\n",
      "UNION\n",
      "SELECT 'Supplier', ContactName, City, Country\n",
      "FROM Suppliers;\n",
      "\n",
      "RESULT:\n",
      "('Customer', None, 'Stavanger', 'Norway')\n",
      "('Customer', 'Alejandra Camino ', 'Madrid ', 'Spain')\n",
      "('Customer', 'Alexander Feuer ', 'Leipzig ', 'Germany')\n",
      "('Customer', 'Ana Trujillo ', 'México D.F. ', 'Mexico')\n",
      "('Customer', 'Anabela Domingues ', 'São Paulo ', 'Brazil')\n",
      "\n"
     ]
    }
   ],
   "source": [
    "query = \"\"\"\n",
    "SELECT 'Customer' AS Type, ContactName, City, Country\n",
    "FROM Customers\n",
    "UNION\n",
    "SELECT 'Supplier', ContactName, City, Country\n",
    "FROM Suppliers;\n",
    "\"\"\"\n",
    "execute(query)"
   ]
  },
  {
   "cell_type": "markdown",
   "id": "86bb0a6a",
   "metadata": {},
   "source": [
    "## 12. GROUP BY, HAVING"
   ]
  },
  {
   "cell_type": "code",
   "execution_count": 93,
   "id": "c89e7eec",
   "metadata": {},
   "outputs": [
    {
     "name": "stdout",
     "output_type": "stream",
     "text": [
      "--------------------\n",
      "QUERY: \n",
      "SELECT COUNT(CustomerID), Country\n",
      "FROM Customers\n",
      "GROUP BY Country;\n",
      "\n",
      "RESULT:\n",
      "(3, 'Argentina')\n",
      "(2, 'Austria')\n",
      "(2, 'Belgium')\n",
      "(9, 'Brazil')\n",
      "(3, 'Canada')\n",
      "\n"
     ]
    }
   ],
   "source": [
    "query = \"\"\"\n",
    "SELECT COUNT(CustomerID), Country\n",
    "FROM Customers\n",
    "GROUP BY Country;\n",
    "\"\"\"\n",
    "execute(query)"
   ]
  },
  {
   "cell_type": "code",
   "execution_count": 94,
   "id": "fc78897b",
   "metadata": {},
   "outputs": [
    {
     "name": "stdout",
     "output_type": "stream",
     "text": [
      "--------------------\n",
      "QUERY: \n",
      "SELECT COUNT(CustomerID), Country\n",
      "FROM Customers\n",
      "GROUP BY Country\n",
      "ORDER BY COUNT(CustomerID) DESC;\n",
      "\n",
      "RESULT:\n",
      "(13, 'USA')\n",
      "(11, 'Germany')\n",
      "(11, 'France')\n",
      "(9, 'Brazil')\n",
      "(8, 'UK')\n",
      "\n"
     ]
    }
   ],
   "source": [
    "query = \"\"\"\n",
    "SELECT COUNT(CustomerID), Country\n",
    "FROM Customers\n",
    "GROUP BY Country\n",
    "ORDER BY COUNT(CustomerID) DESC;\n",
    "\"\"\"\n",
    "execute(query)"
   ]
  },
  {
   "cell_type": "code",
   "execution_count": 95,
   "id": "e0889c80",
   "metadata": {},
   "outputs": [
    {
     "name": "stdout",
     "output_type": "stream",
     "text": [
      "--------------------\n",
      "QUERY: \n",
      "SELECT Shippers.ShipperName, COUNT(Orders.OrderID) AS NumberOfOrders FROM Orders\n",
      "LEFT JOIN Shippers ON Orders.ShipperID = Shippers.ShipperID\n",
      "GROUP BY ShipperName;\n",
      "\n",
      "RESULT:\n",
      "('Federal Shipping', 68)\n",
      "('Speedy Express', 54)\n",
      "('United Package', 74)\n",
      "\n"
     ]
    }
   ],
   "source": [
    "query = \"\"\"\n",
    "SELECT Shippers.ShipperName, COUNT(Orders.OrderID) AS NumberOfOrders FROM Orders\n",
    "LEFT JOIN Shippers ON Orders.ShipperID = Shippers.ShipperID\n",
    "GROUP BY ShipperName;\n",
    "\"\"\"\n",
    "execute(query)"
   ]
  },
  {
   "cell_type": "code",
   "execution_count": 96,
   "id": "88bbb45f",
   "metadata": {},
   "outputs": [
    {
     "name": "stdout",
     "output_type": "stream",
     "text": [
      "--------------------\n",
      "QUERY: \n",
      "SELECT COUNT(CustomerID), Country\n",
      "FROM Customers\n",
      "GROUP BY Country\n",
      "HAVING COUNT(CustomerID) > 5;\n",
      "\n",
      "RESULT:\n",
      "(9, 'Brazil')\n",
      "(11, 'France')\n",
      "(11, 'Germany')\n",
      "(8, 'UK')\n",
      "(13, 'USA')\n",
      "\n"
     ]
    }
   ],
   "source": [
    "query = \"\"\"\n",
    "SELECT COUNT(CustomerID), Country\n",
    "FROM Customers\n",
    "GROUP BY Country\n",
    "HAVING COUNT(CustomerID) > 5;\n",
    "\"\"\"\n",
    "execute(query)"
   ]
  },
  {
   "cell_type": "code",
   "execution_count": 97,
   "id": "54629929",
   "metadata": {},
   "outputs": [
    {
     "name": "stdout",
     "output_type": "stream",
     "text": [
      "--------------------\n",
      "QUERY: \n",
      "SELECT COUNT(CustomerID), Country\n",
      "FROM Customers\n",
      "GROUP BY Country\n",
      "HAVING COUNT(CustomerID) > 5\n",
      "ORDER BY COUNT(CustomerID) DESC;\n",
      "\n",
      "RESULT:\n",
      "(13, 'USA')\n",
      "(11, 'Germany')\n",
      "(11, 'France')\n",
      "(9, 'Brazil')\n",
      "(8, 'UK')\n",
      "\n"
     ]
    }
   ],
   "source": [
    "query = \"\"\"\n",
    "SELECT COUNT(CustomerID), Country\n",
    "FROM Customers\n",
    "GROUP BY Country\n",
    "HAVING COUNT(CustomerID) > 5\n",
    "ORDER BY COUNT(CustomerID) DESC;\n",
    "\"\"\"\n",
    "execute(query)"
   ]
  },
  {
   "cell_type": "code",
   "execution_count": 98,
   "id": "af68ce19",
   "metadata": {},
   "outputs": [
    {
     "name": "stdout",
     "output_type": "stream",
     "text": [
      "--------------------\n",
      "QUERY: \n",
      "SELECT Employees.LastName, COUNT(Orders.OrderID) AS NumberOfOrders\n",
      "FROM (Orders\n",
      "INNER JOIN Employees ON Orders.EmployeeID = Employees.EmployeeID)\n",
      "GROUP BY LastName\n",
      "HAVING COUNT(Orders.OrderID) > 10;\n",
      "\n",
      "RESULT:\n",
      "('Buchanan', 11)\n",
      "('Callahan', 27)\n",
      "('Davolio', 29)\n",
      "('Fuller', 20)\n",
      "('King', 14)\n",
      "\n"
     ]
    }
   ],
   "source": [
    "query = \"\"\"\n",
    "SELECT Employees.LastName, COUNT(Orders.OrderID) AS NumberOfOrders\n",
    "FROM (Orders\n",
    "INNER JOIN Employees ON Orders.EmployeeID = Employees.EmployeeID)\n",
    "GROUP BY LastName\n",
    "HAVING COUNT(Orders.OrderID) > 10;\n",
    "\"\"\"\n",
    "execute(query)"
   ]
  },
  {
   "cell_type": "code",
   "execution_count": 99,
   "id": "1256d798",
   "metadata": {},
   "outputs": [
    {
     "name": "stdout",
     "output_type": "stream",
     "text": [
      "--------------------\n",
      "QUERY: \n",
      "SELECT Employees.LastName, COUNT(Orders.OrderID) AS NumberOfOrders\n",
      "FROM Orders\n",
      "INNER JOIN Employees ON Orders.EmployeeID = Employees.EmployeeID\n",
      "WHERE LastName = 'Davolio' OR LastName = 'Fuller'\n",
      "GROUP BY LastName\n",
      "HAVING COUNT(Orders.OrderID) > 25;\n",
      "\n",
      "RESULT:\n",
      "('Davolio', 29)\n",
      "\n"
     ]
    }
   ],
   "source": [
    "query = \"\"\"\n",
    "SELECT Employees.LastName, COUNT(Orders.OrderID) AS NumberOfOrders\n",
    "FROM Orders\n",
    "INNER JOIN Employees ON Orders.EmployeeID = Employees.EmployeeID\n",
    "WHERE LastName = 'Davolio' OR LastName = 'Fuller'\n",
    "GROUP BY LastName\n",
    "HAVING COUNT(Orders.OrderID) > 25;\n",
    "\"\"\"\n",
    "execute(query)"
   ]
  },
  {
   "cell_type": "markdown",
   "id": "73307ba1",
   "metadata": {},
   "source": [
    "## 13. EXIST, ANY, ALL"
   ]
  },
  {
   "cell_type": "code",
   "execution_count": 100,
   "id": "79200972",
   "metadata": {},
   "outputs": [
    {
     "name": "stdout",
     "output_type": "stream",
     "text": [
      "--------------------\n",
      "QUERY: \n",
      "SELECT SupplierName\n",
      "FROM Suppliers\n",
      "WHERE EXISTS (SELECT 1 FROM Products WHERE Products.SupplierID = Suppliers.SupplierID AND Price < 20);\n",
      "\n",
      "RESULT:\n",
      "('Exotic Liquid',)\n",
      "('New Orleans Cajun Delights',)\n",
      "('Tokyo Traders',)\n",
      "(\"Mayumi's\",)\n",
      "('Pavlova, Ltd.',)\n",
      "\n"
     ]
    }
   ],
   "source": [
    "query = \"\"\"\n",
    "SELECT SupplierName\n",
    "FROM Suppliers\n",
    "WHERE EXISTS (SELECT 1 FROM Products WHERE Products.SupplierID = Suppliers.SupplierID AND Price < 20);\n",
    "\"\"\"\n",
    "execute(query)"
   ]
  },
  {
   "cell_type": "code",
   "execution_count": 101,
   "id": "8ae03f14",
   "metadata": {},
   "outputs": [
    {
     "name": "stdout",
     "output_type": "stream",
     "text": [
      "--------------------\n",
      "QUERY: \n",
      "SELECT SupplierName\n",
      "FROM Suppliers\n",
      "WHERE EXISTS (SELECT 1 FROM Products WHERE Products.SupplierID = Suppliers.SupplierID AND Price = 22);\n",
      "\n",
      "RESULT:\n",
      "('New Orleans Cajun Delights',)\n",
      "\n"
     ]
    }
   ],
   "source": [
    "query = \"\"\"\n",
    "SELECT SupplierName\n",
    "FROM Suppliers\n",
    "WHERE EXISTS (SELECT 1 FROM Products WHERE Products.SupplierID = Suppliers.SupplierID AND Price = 22);\n",
    "\"\"\"\n",
    "execute(query)"
   ]
  },
  {
   "cell_type": "code",
   "execution_count": 102,
   "id": "becce41d",
   "metadata": {},
   "outputs": [
    {
     "name": "stdout",
     "output_type": "stream",
     "text": [
      "--------------------\n",
      "QUERY: \n",
      "SELECT ProductName\n",
      "FROM Products\n",
      "WHERE ProductID IN (SELECT ProductID FROM OrderDetails WHERE Quantity = 10);\n",
      "\n",
      "RESULT:\n",
      "('Chais',)\n",
      "('Chang',)\n",
      "(\"Chef Anton's Cajun Seasoning\",)\n",
      "(\"Uncle Bob's Organic Dried Pears\",)\n",
      "('Konbu',)\n",
      "\n"
     ]
    }
   ],
   "source": [
    "query = \"\"\"\n",
    "SELECT ProductName\n",
    "FROM Products\n",
    "WHERE ProductID IN (SELECT ProductID FROM OrderDetails WHERE Quantity = 10);\n",
    "\"\"\"\n",
    "execute(query)"
   ]
  },
  {
   "cell_type": "code",
   "execution_count": 103,
   "id": "bab4a096",
   "metadata": {},
   "outputs": [
    {
     "name": "stdout",
     "output_type": "stream",
     "text": [
      "--------------------\n",
      "QUERY: \n",
      "SELECT ProductName\n",
      "FROM Products\n",
      "WHERE ProductID IN (SELECT ProductID FROM OrderDetails WHERE Quantity > 99);\n",
      "\n",
      "RESULT:\n",
      "('Steeleye Stout',)\n",
      "('Pâté chinois',)\n",
      "\n"
     ]
    }
   ],
   "source": [
    "query = \"\"\"\n",
    "SELECT ProductName\n",
    "FROM Products\n",
    "WHERE ProductID IN (SELECT ProductID FROM OrderDetails WHERE Quantity > 99);\n",
    "\"\"\"\n",
    "execute(query)"
   ]
  },
  {
   "cell_type": "code",
   "execution_count": 104,
   "id": "c35b3af4",
   "metadata": {},
   "outputs": [
    {
     "name": "stdout",
     "output_type": "stream",
     "text": [
      "--------------------\n",
      "QUERY: \n",
      "SELECT ProductName\n",
      "FROM Products\n",
      "WHERE ProductID IN (SELECT ProductID FROM OrderDetails WHERE Quantity > 1000);\n",
      "\n",
      "RESULT:\n",
      "\n"
     ]
    }
   ],
   "source": [
    "query = \"\"\"\n",
    "SELECT ProductName\n",
    "FROM Products\n",
    "WHERE ProductID IN (SELECT ProductID FROM OrderDetails WHERE Quantity > 1000);\n",
    "\"\"\"\n",
    "execute(query)"
   ]
  },
  {
   "cell_type": "code",
   "execution_count": 105,
   "id": "0776f1bb",
   "metadata": {},
   "outputs": [
    {
     "name": "stdout",
     "output_type": "stream",
     "text": [
      "--------------------\n",
      "QUERY: \n",
      "SELECT ProductName\n",
      "FROM Products;\n",
      "\n",
      "RESULT:\n",
      "('Chais',)\n",
      "('Chang',)\n",
      "('Aniseed Syrup',)\n",
      "(\"Chef Anton's Cajun Seasoning\",)\n",
      "(\"Chef Anton's Gumbo Mix\",)\n",
      "\n"
     ]
    }
   ],
   "source": [
    "query = \"\"\"\n",
    "SELECT ProductName\n",
    "FROM Products;\n",
    "\"\"\"\n",
    "execute(query)"
   ]
  },
  {
   "cell_type": "code",
   "execution_count": 106,
   "id": "010e42ba",
   "metadata": {},
   "outputs": [
    {
     "name": "stdout",
     "output_type": "stream",
     "text": [
      "--------------------\n",
      "QUERY: \n",
      "SELECT ProductName\n",
      "FROM Products\n",
      "WHERE ProductID = (SELECT ProductID FROM OrderDetails WHERE Quantity = 10 LIMIT 1);\n",
      "\n",
      "RESULT:\n",
      "('Singaporean Hokkien Fried Mee',)\n",
      "\n"
     ]
    }
   ],
   "source": [
    "query = \"\"\"\n",
    "SELECT ProductName\n",
    "FROM Products\n",
    "WHERE ProductID = (SELECT ProductID FROM OrderDetails WHERE Quantity = 10 LIMIT 1);\n",
    "\"\"\"\n",
    "execute(query)"
   ]
  },
  {
   "cell_type": "markdown",
   "id": "c954bbe8",
   "metadata": {},
   "source": [
    "## 14. SELECT + INSERT"
   ]
  },
  {
   "cell_type": "code",
   "execution_count": 107,
   "id": "33c3239f",
   "metadata": {},
   "outputs": [
    {
     "name": "stdout",
     "output_type": "stream",
     "text": [
      "--------------------\n",
      "QUERY: \n",
      "INSERT INTO Customers (CustomerName, City, Country)\n",
      "SELECT SupplierName, City, Country FROM Suppliers;\n",
      "\n",
      "RESULT:\n",
      "\n"
     ]
    }
   ],
   "source": [
    "query = \"\"\"\n",
    "INSERT INTO Customers (CustomerName, City, Country)\n",
    "SELECT SupplierName, City, Country FROM Suppliers;\n",
    "\"\"\"\n",
    "\n",
    "execute(query)"
   ]
  },
  {
   "cell_type": "code",
   "execution_count": 108,
   "id": "e9febebe",
   "metadata": {},
   "outputs": [
    {
     "name": "stdout",
     "output_type": "stream",
     "text": [
      "--------------------\n",
      "QUERY: \n",
      "INSERT INTO Customers (CustomerName, ContactName, Address, City, PostalCode, Country)\n",
      "SELECT SupplierName, ContactName, Address, City, PostalCode, Country FROM Suppliers;\n",
      "\n",
      "RESULT:\n",
      "\n"
     ]
    }
   ],
   "source": [
    "query = \"\"\"\n",
    "INSERT INTO Customers (CustomerName, ContactName, Address, City, PostalCode, Country)\n",
    "SELECT SupplierName, ContactName, Address, City, PostalCode, Country FROM Suppliers;\n",
    "\"\"\"\n",
    "\n",
    "execute(query)"
   ]
  },
  {
   "cell_type": "code",
   "execution_count": 109,
   "id": "dc2df9d1",
   "metadata": {},
   "outputs": [
    {
     "name": "stdout",
     "output_type": "stream",
     "text": [
      "--------------------\n",
      "QUERY: \n",
      "INSERT INTO Customers (CustomerName, City, Country)\n",
      "SELECT SupplierName, City, Country FROM Suppliers\n",
      "WHERE Country='Germany';\n",
      "\n",
      "RESULT:\n",
      "\n"
     ]
    }
   ],
   "source": [
    "query = \"\"\"\n",
    "INSERT INTO Customers (CustomerName, City, Country)\n",
    "SELECT SupplierName, City, Country FROM Suppliers\n",
    "WHERE Country='Germany';\n",
    "\"\"\"\n",
    "\n",
    "execute(query)"
   ]
  },
  {
   "cell_type": "markdown",
   "id": "ea0c28e3",
   "metadata": {},
   "source": [
    "## 15. CASE"
   ]
  },
  {
   "cell_type": "code",
   "execution_count": 110,
   "id": "69f9c979",
   "metadata": {},
   "outputs": [
    {
     "name": "stdout",
     "output_type": "stream",
     "text": [
      "--------------------\n",
      "QUERY: \n",
      "SELECT OrderID, Quantity,\n",
      "CASE\n",
      "    WHEN Quantity > 30 THEN 'The quantity is greater than 30'\n",
      "    WHEN Quantity = 30 THEN 'The quantity is 30'\n",
      "    ELSE 'The quantity is under 30'\n",
      "END AS QuantityText\n",
      "FROM OrderDetails;\n",
      "\n",
      "RESULT:\n",
      "(10248, 12, 'The quantity is under 30')\n",
      "(10248, 10, 'The quantity is under 30')\n",
      "(10248, 5, 'The quantity is under 30')\n",
      "(10249, 9, 'The quantity is under 30')\n",
      "(10249, 40, 'The quantity is greater than 30')\n",
      "\n"
     ]
    }
   ],
   "source": [
    "query = \"\"\"\n",
    "SELECT OrderID, Quantity,\n",
    "CASE\n",
    "    WHEN Quantity > 30 THEN 'The quantity is greater than 30'\n",
    "    WHEN Quantity = 30 THEN 'The quantity is 30'\n",
    "    ELSE 'The quantity is under 30'\n",
    "END AS QuantityText\n",
    "FROM OrderDetails;\n",
    "\"\"\"\n",
    "\n",
    "execute(query)"
   ]
  },
  {
   "cell_type": "code",
   "execution_count": 111,
   "id": "5af52e1a",
   "metadata": {},
   "outputs": [
    {
     "name": "stdout",
     "output_type": "stream",
     "text": [
      "--------------------\n",
      "QUERY: \n",
      "SELECT CustomerName, City, Country\n",
      "FROM Customers\n",
      "ORDER BY\n",
      "(CASE\n",
      "    WHEN City IS NULL THEN Country\n",
      "    ELSE City\n",
      "END);\n",
      "\n",
      "RESULT:\n",
      "('Drachenblut Delikatessend ', 'Aachen ', 'Germany')\n",
      "('Rattlesnake Canyon Grocery ', 'Albuquerque ', 'USA')\n",
      "('Old World Delicatessen ', 'Anchorage ', 'USA')\n",
      "(\"Grandma Kelly's Homestead\", 'Ann Arbor', 'USA')\n",
      "(\"Grandma Kelly's Homestead\", 'Ann Arbor', 'USA')\n",
      "\n"
     ]
    }
   ],
   "source": [
    "query = \"\"\"\n",
    "SELECT CustomerName, City, Country\n",
    "FROM Customers\n",
    "ORDER BY\n",
    "(CASE\n",
    "    WHEN City IS NULL THEN Country\n",
    "    ELSE City\n",
    "END);\n",
    "\"\"\"\n",
    "\n",
    "execute(query)"
   ]
  },
  {
   "cell_type": "code",
   "execution_count": null,
   "id": "6c294642",
   "metadata": {},
   "outputs": [],
   "source": []
  }
 ],
 "metadata": {
  "kernelspec": {
   "display_name": "softeer",
   "language": "python",
   "name": "softeer"
  },
  "language_info": {
   "codemirror_mode": {
    "name": "ipython",
    "version": 3
   },
   "file_extension": ".py",
   "mimetype": "text/x-python",
   "name": "python",
   "nbconvert_exporter": "python",
   "pygments_lexer": "ipython3",
   "version": "3.9.23"
  }
 },
 "nbformat": 4,
 "nbformat_minor": 5
}
